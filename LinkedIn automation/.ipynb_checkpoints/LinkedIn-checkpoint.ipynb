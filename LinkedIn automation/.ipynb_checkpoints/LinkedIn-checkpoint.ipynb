{
 "cells": [
  {
   "cell_type": "code",
   "execution_count": 1,
   "id": "da0f0a14-5aab-4a8c-8fea-a459a57df55d",
   "metadata": {},
   "outputs": [
    {
     "data": {
      "text/plain": [
       "7"
      ]
     },
     "execution_count": 1,
     "metadata": {},
     "output_type": "execute_result"
    }
   ],
   "source": [
    "2+5"
   ]
  },
  {
   "cell_type": "code",
   "execution_count": 1,
   "id": "b3a252ad-2519-4a0b-b978-cf4f60a79b29",
   "metadata": {},
   "outputs": [],
   "source": [
    "from bs4 import BeautifulSoup\n",
    "import lxml\n",
    "import requests\n",
    "from selenium import webdriver\n",
    "from selenium.webdriver.common.by import By\n",
    "from selenium.webdriver.common.keys import Keys\n",
    "from selenium.webdriver.support import expected_conditions as EC\n",
    "from selenium.webdriver.support.ui import WebDriverWait\n",
    "import time"
   ]
  },
  {
   "cell_type": "code",
   "execution_count": 13,
   "id": "853e3ff4-dc29-480d-8167-dc7bedacf686",
   "metadata": {},
   "outputs": [],
   "source": [
    "comment = 'DM me, will connect'\n",
    "keywords = ['hiring','Hiring','develop','Develpment','job']"
   ]
  },
  {
   "cell_type": "code",
   "execution_count": 3,
   "id": "e233a35e-a863-4eb5-9eeb-ef83bcbaf621",
   "metadata": {},
   "outputs": [],
   "source": [
    "cService = webdriver.ChromeService(executable_path='F:/Work/Automation Web scraping/Automation test/chromedriver-win64/chromedriver.exe')\n",
    "driver = webdriver.Chrome(service = cService)\n",
    "driver.get('https://www.linkedin.com/login')\n",
    "time.sleep(5)"
   ]
  },
  {
   "cell_type": "code",
   "execution_count": 4,
   "id": "23d989f9-5f11-4374-a228-1ba032205154",
   "metadata": {},
   "outputs": [],
   "source": [
    "#login\n",
    "login = driver.find_element('xpath','//*[@id=\"username\"]')\n",
    "login.send_keys('s.codingcircle@gmail.com')\n",
    "time.sleep(2)\n",
    "\n",
    "pswd = driver.find_element('xpath','//*[@id=\"password\"]')\n",
    "pswd.send_keys('souvik2000')\n",
    "time.sleep(2)\n",
    "\n",
    "loginButton = driver.find_element('xpath','//*[@id=\"organic-div\"]/form/div[3]/button')\n",
    "loginButton.click()"
   ]
  },
  {
   "cell_type": "code",
   "execution_count": 6,
   "id": "055db264-d71b-43c4-a3cb-7d22c58bdfaa",
   "metadata": {},
   "outputs": [],
   "source": [
    "posts = []\n",
    "while True:\n",
    "    soup = BeautifulSoup(driver.page_source, 'lxml')\n",
    "    postings = soup.find_all('div', class_ = 'update-components-text relative update-components-update-v2__commentary')\n",
    "    usernames = soup.find_all('span',class_ = 'update-components-actor__title')\n",
    "    count = 0\n",
    "    while count < len(postings):\n",
    "        posts.append(\",\".join([usernames[count].text, postings[count].text]))\n",
    "        count+=1\n",
    "    driver.execute_script('window.scrollTo(0, document.body.scrollHeight)')\n",
    "    time.sleep(5)\n",
    "    WebDriverWait(driver, 10).until(EC.presence_of_element_located((By.CLASS_NAME, 'update-components-text')))\n",
    "    soup = BeautifulSoup(driver.page_source, 'lxml')\n",
    "    postings = soup.find_all('div', class_ = 'update-components-text relative update-components-update-v2__commentary')\n",
    "    usernames = soup.find_all('span',class_ = 'update-components-actor__title')\n",
    "    posts2 = list(set(posts))\n",
    "    if len(posts2) > 5:\n",
    "        break"
   ]
  },
  {
   "cell_type": "code",
   "execution_count": 7,
   "id": "e95ec2e5-d5ff-44a3-838e-02eccc0c9f6f",
   "metadata": {},
   "outputs": [
    {
     "name": "stdout",
     "output_type": "stream",
     "text": [
      "6\n",
      "\n",
      "\n",
      "Alok KejriwalAlok Kejriwal\n",
      "\n",
      "\n",
      " \n",
      "\n",
      " • Following • Following\n",
      "\n",
      ",\n",
      "\n",
      "\n",
      " Great Health or Big Wealth?I say BOTH :))And it's very possible! Check the message I received yesterday from one of our meditation students (We have graduated over 700 meditation students via our monthly courses)In these complex and trying times, we must steadily march ahead in our professional and business pursuits AND be healthy. To do this successfully, you have to learn how to meditate. Meditation IS the best medicine and beyond.Join us in our July batch - https://lnkd.in/dtG4Ezqdhashtag#dhandhekibaat - Maxing Health and Wealth :)Thank you, Gurudev Sri Sri Ravi Shankar, for teaching us your priceless knowledge.\n",
      "\n",
      "\n",
      "\n",
      "\n",
      "Revanth MurigipudiRevanth Murigipudi\n",
      "\n",
      "\n",
      " \n",
      "\n",
      " • 3rd+ • 3rd+\n",
      "\n",
      ",\n",
      "\n",
      "\n",
      " 6 years of my career in 4 sentences📍2018: Graduated and joined TCS as a Systems Engineer working on IBM WebSphere.📍2019: Moved to a startup, and built a search feature with ElasticSearch from scratch.📍2021: Startup was acquired by Autodesk, I moved to the MLOps team and built workflows for SMEs.📍2022: Joined Atlassian and currently working on ChatOps capabilities in Jira Service Management.It took me 4 years to reach one of my dream companies. The journey was filled with learning, growth, and plenty of \"I wish I knew this earlier\" moments.Overtime, both my seniors and juniors have guided me, and it's been incredibly helpful. If I could give one advice to my younger self, it would be: Look for guidance from those who've been in your shoes. You can also connect with experienced engineers at 1:1 mentorship platforms like Preplaced. All you have to do is book a free session and discuss your challenges: https://lnkd.in/gjrYaG3tThey will provide personalized advice, help you prepare for interviews at top tech companies, and give you the confidence and support to pursue your dreams. 💫With the right mentor, you might reach your dream company faster than I did!hashtag#sponsoredpost hashtag#careergrowth hashtag#collab hashtag#preplacedcollab hashtag#techjourney hashtag#mentorship\n",
      "\n",
      "\n",
      "\n",
      "\n",
      "Archy GuptaArchy Gupta\n",
      "\n",
      "\n",
      " • Following • Following\n",
      "\n",
      ",\n",
      "\n",
      "\n",
      " ✅From Opentext → Here, it’s been an incredible journey. Many of you have asked about my experience, so I thought I'd share some insights.🚀📍Here's what I learned during my transition:👉🏻 Upskill strategically - I focused on system design and distributed systems.👉🏻 Be prepared for a long process - My switch took 6 months from interviews to offer.👉🏻 Stay updated - I made sure to brush up on the latest tech trends in my field.The biggest challenge was being consistent with my preparation while working full-time. If you're in the same boat and struggling to keep up with your job switch preparation, find someone who can keep you accountable. ✌️At Preplaced, you can connect with top engineers who will not only guide you but also keep you on track.🔗Just book a free trial with an expert engineer here: https://lnkd.in/gFFwDnFhThey will provide a structured approach for interview preparation, conduct regular mock interviews, and give you the push you need to land your dream job. 💫hashtag#CareerJourney hashtag#JobSwitch hashtag#Collab hashtag#PreplacedCollab hashtag#InterviewPreparation\n",
      "\n",
      "\n",
      "\n",
      "\n",
      "Anjali KumariAnjali Kumari\n",
      "\n",
      "\n",
      " • 3rd+ • 3rd+\n",
      "\n",
      ",\n",
      "\n",
      "\n",
      " This was really a tough journey for me.But whenever I see this picture, it gives me the satisfaction for all my hard works🏆Trust me guys Whatever is taking from u now to achieve your goal, will going to be return back soon 💯 If recruiter could reach out to me, then they could reach out to u also. You just need to start and with a good networking 👍 and most important—— your day 🍁I always repeat the same thing to you…have your good networking, this is really gonna help u a lot All the bestStay positive and spread positivity 🙌hashtag#motivation hashtag#positivities hashtag#opportunities hashtag#softwareengineering hashtag#jobs hashtag#linkedin hashtag#connections hashtag#networking\n",
      "\n",
      "\n",
      "\n",
      "\n",
      "Swati JhaSwati Jha\n",
      "\n",
      "\n",
      " (She/Her) • Following (She/Her) • Following\n",
      "\n",
      ",\n",
      "\n",
      "\n",
      " 3 Mistakes That I Made and You Should Avoid if You’re Switching to a Product-based Company 💔 😔.Getting into a PBC is a dream of many working professionals and I had this dream too However, making mistakes along the way can cost you precious opportunities. 😓Here are three mistakes I made and why it's important to overcome them. 👇🏿❌ Mistake 1️⃣ : I underestimated the complexity of technical interviews at PBCs. In the beginning my preparation was focused more on theoretical knowledge rather than practical problem-solving. ❌ Mistake 2️⃣:I focused too heavily on DSA, neglecting the importance of system design. Coming from a service-based background, my experience with designing large-scale systems was limited, and I didn’t spend enough time on it. ❌ Mistake 3️⃣:I didn't properly familiarize myself with the specific tech stack and tools used by the PBC I was applying to. While I had strong software development skills, but I lacked experience with specific frameworks, cloud services, and CI/CD pipelines.✅Remember, learning from mistakes is crucial, and overcoming these challenges will bring you one step closer to your dream job at your dream company Now, If you’re someone who needs help in improving the areas mentioned above and want a structured curriculum & Guidance I would suggest checking Bosscoder Academy Check here: https://bit.ly/3ya6ztT They provide a well-structured program that can help you master DSA, System Design, and Full Stack Development along with personal mentorship and 24/7 doubt supporthashtag#collab hashtag#mistakes hashtag#careerswitch\n",
      "\n",
      "\n",
      "\n",
      "\n",
      "Dr. Mohammad Amin WaniDr. Mohammad Amin Wani\n",
      "\n",
      "\n",
      " • 2nd • 2nd\n",
      "\n",
      ",\n",
      "\n",
      "\n",
      " \"I'm thrilled to share that I've been honored with the Award of Excellence for young researcher in Psychology!This prestigious international award was conferred by Hon'ble State Minister of Uttarakhand, India, Mrs. Madhu Bhatt, at the International Seminar on \"Integration of Science & Special Education\" held on July 7, 2024.I'm grateful to the organizers - Speakingcube Online Mental Health Consulting Foundation, SPECS, and Graphic Era University, Dehradun - for this recognition.This award is a testament to my dedication and passion for Psychology, and I'm humbled to be acknowledged among the best in the field.Thank you to everyone who has supported me on this journey!\n",
      "\n",
      "\n"
     ]
    }
   ],
   "source": [
    "#All post\n",
    "posts2 = list(set(posts2))\n",
    "print(len(posts2))\n",
    "\n",
    "count = 0\n",
    "while count < len(posts2):\n",
    "    print(posts2[count])\n",
    "    count+=1 "
   ]
  },
  {
   "cell_type": "code",
   "execution_count": 14,
   "id": "22808fef-50fe-48ed-a71a-4612e5718572",
   "metadata": {},
   "outputs": [
    {
     "name": "stdout",
     "output_type": "stream",
     "text": [
      "\n",
      "\n",
      "Archy GuptaArchy Gupta\n",
      "\n",
      "\n",
      " • Following • Following\n",
      "\n",
      ",\n",
      "\n",
      "\n",
      " ✅From Opentext → Here, it’s been an incredible journey. Many of you have asked about my experience, so I thought I'd share some insights.🚀📍Here's what I learned during my transition:👉🏻 Upskill strategically - I focused on system design and distributed systems.👉🏻 Be prepared for a long process - My switch took 6 months from interviews to offer.👉🏻 Stay updated - I made sure to brush up on the latest tech trends in my field.The biggest challenge was being consistent with my preparation while working full-time. If you're in the same boat and struggling to keep up with your job switch preparation, find someone who can keep you accountable. ✌️At Preplaced, you can connect with top engineers who will not only guide you but also keep you on track.🔗Just book a free trial with an expert engineer here: https://lnkd.in/gFFwDnFhThey will provide a structured approach for interview preparation, conduct regular mock interviews, and give you the push you need to land your dream job. 💫hashtag#CareerJourney hashtag#JobSwitch hashtag#Collab hashtag#PreplacedCollab hashtag#InterviewPreparation\n",
      "\n",
      "\n",
      "\n",
      "\n",
      "Anjali KumariAnjali Kumari\n",
      "\n",
      "\n",
      " • 3rd+ • 3rd+\n",
      "\n",
      ",\n",
      "\n",
      "\n",
      " This was really a tough journey for me.But whenever I see this picture, it gives me the satisfaction for all my hard works🏆Trust me guys Whatever is taking from u now to achieve your goal, will going to be return back soon 💯 If recruiter could reach out to me, then they could reach out to u also. You just need to start and with a good networking 👍 and most important—— your day 🍁I always repeat the same thing to you…have your good networking, this is really gonna help u a lot All the bestStay positive and spread positivity 🙌hashtag#motivation hashtag#positivities hashtag#opportunities hashtag#softwareengineering hashtag#jobs hashtag#linkedin hashtag#connections hashtag#networking\n",
      "\n",
      "\n",
      "\n",
      "\n",
      "Swati JhaSwati Jha\n",
      "\n",
      "\n",
      " (She/Her) • Following (She/Her) • Following\n",
      "\n",
      ",\n",
      "\n",
      "\n",
      " 3 Mistakes That I Made and You Should Avoid if You’re Switching to a Product-based Company 💔 😔.Getting into a PBC is a dream of many working professionals and I had this dream too However, making mistakes along the way can cost you precious opportunities. 😓Here are three mistakes I made and why it's important to overcome them. 👇🏿❌ Mistake 1️⃣ : I underestimated the complexity of technical interviews at PBCs. In the beginning my preparation was focused more on theoretical knowledge rather than practical problem-solving. ❌ Mistake 2️⃣:I focused too heavily on DSA, neglecting the importance of system design. Coming from a service-based background, my experience with designing large-scale systems was limited, and I didn’t spend enough time on it. ❌ Mistake 3️⃣:I didn't properly familiarize myself with the specific tech stack and tools used by the PBC I was applying to. While I had strong software development skills, but I lacked experience with specific frameworks, cloud services, and CI/CD pipelines.✅Remember, learning from mistakes is crucial, and overcoming these challenges will bring you one step closer to your dream job at your dream company Now, If you’re someone who needs help in improving the areas mentioned above and want a structured curriculum & Guidance I would suggest checking Bosscoder Academy Check here: https://bit.ly/3ya6ztT They provide a well-structured program that can help you master DSA, System Design, and Full Stack Development along with personal mentorship and 24/7 doubt supporthashtag#collab hashtag#mistakes hashtag#careerswitch\n",
      "\n",
      "\n"
     ]
    }
   ],
   "source": [
    "#Post/username contains mentioned keywords\n",
    "posts2 = list(set(posts2))\n",
    "#print(len(posts2))\n",
    "\n",
    "count = 0\n",
    "while count < len(posts2):\n",
    "    counter = 0\n",
    "    while counter < len(keywords) :\n",
    "        if keywords[counter] in posts2[count] :\n",
    "            print(posts2[count])\n",
    "            break\n",
    "        counter += 1\n",
    "    count+=1 "
   ]
  },
  {
   "cell_type": "code",
   "execution_count": null,
   "id": "5f999d0e-8140-4309-bdaf-8cbfbf426191",
   "metadata": {},
   "outputs": [],
   "source": []
  }
 ],
 "metadata": {
  "kernelspec": {
   "display_name": "Python 3 (ipykernel)",
   "language": "python",
   "name": "python3"
  },
  "language_info": {
   "codemirror_mode": {
    "name": "ipython",
    "version": 3
   },
   "file_extension": ".py",
   "mimetype": "text/x-python",
   "name": "python",
   "nbconvert_exporter": "python",
   "pygments_lexer": "ipython3",
   "version": "3.12.3"
  }
 },
 "nbformat": 4,
 "nbformat_minor": 5
}
