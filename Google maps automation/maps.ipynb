{
 "cells": [
  {
   "cell_type": "code",
   "execution_count": 1,
   "id": "da0f0a14-5aab-4a8c-8fea-a459a57df55d",
   "metadata": {},
   "outputs": [
    {
     "data": {
      "text/plain": [
       "7"
      ]
     },
     "execution_count": 1,
     "metadata": {},
     "output_type": "execute_result"
    }
   ],
   "source": [
    "2+5"
   ]
  },
  {
   "cell_type": "code",
   "execution_count": 2,
   "id": "b3a252ad-2519-4a0b-b978-cf4f60a79b29",
   "metadata": {},
   "outputs": [],
   "source": [
    "from bs4 import BeautifulSoup\n",
    "import lxml\n",
    "import requests\n",
    "from selenium import webdriver\n",
    "from selenium.webdriver.common.by import By\n",
    "from selenium.webdriver.common.keys import Keys\n",
    "from selenium.webdriver.support import expected_conditions as EC\n",
    "from selenium.webdriver.support.ui import WebDriverWait\n",
    "import time\n",
    "import re \n",
    "import pandas as pd"
   ]
  },
  {
   "cell_type": "code",
   "execution_count": 3,
   "id": "e233a35e-a863-4eb5-9eeb-ef83bcbaf621",
   "metadata": {},
   "outputs": [],
   "source": [
    "# cService = webdriver.ChromeService(executable_path='F:\\Work\\Automation Web scraping\\Google maps automation\\chromedriver-win64/chromedriver.exe')\n",
    "# driver = webdriver.Chrome(service = cService)\n",
    "# driver.get('https://www.google.com/search?sca_esv=1eda6e0add178775&tbs=lf:1,lf_ui:9&tbm=lcl&sxsrf=ADLYWIKKfoftf2ZwPJB7hwPYhLfu-QM08g:1721192815527&q=restaurant+behala&rflfq=1&num=10&sa=X&sqi=2&ved=2ahUKEwjR7O_ypq2HAxV1zDgGHTJcALQQjGp6BAgmEAE&biw=1536&bih=747&dpr=1.25#rlfi=hd:;si:;mv:[[22.510946,88.3279328],[22.4694611,88.30611859999999]]')\n",
    "# time.sleep(2)\n",
    "\n",
    "driver = webdriver.Chrome()\n",
    "driver.get('https://www.google.com/search?q=travel+agents+in+mumbai&sca_esv=1eda6e0add178775&biw=1536&bih=695&tbm=lcl&ei=xsr8ZuWIM6bo1e8P2PaKwAI&oq=travel+agent+in+mumbai&gs_lp=Eg1nd3Mtd2l6LWxvY2FsIhZ0cmF2ZWwgYWdlbnQgaW4gbXVtYmFpKgIIADIHEAAYgAQYCjIHEAAYgAQYCjIHEAAYgAQYCjIHEAAYgAQYCjIHEAAYgAQYCjIKEAAYFhgKGB4YDzIGEAAYFhgeMgYQABgWGB4yBhAAGBYYHjIGEAAYFhgeSKI1UABY1CxwAngAkAEAmAGnAqABiyqqAQYwLjkuMTW4AQPIAQD4AQGYAhqgAvgrwgIKEAAYgAQYQxiKBcICCxAAGIAEGLEDGIMBwgIIEAAYgAQYsQPCAgUQABiABMICCxAAGIAEGJECGIoFwgIQEAAYgAQYsQMYQxiDARiKBcICDRAAGIAEGLEDGEMYigXCAggQABiABBiSA8ICCxAAGIAEGJIDGIoFwgIIEAAYgAQYyQOYAwCSBwgyLjcuMTYuMaAHl6gB&sclient=gws-wiz-local#rlfi=hd:;si:;mv:[[19.216156899999998,72.9230578],[18.919284100000002,72.784847]];tbs:lrf:!1m4!1u3!2m2!3m1!1e1!1m4!1u2!2m2!2m1!1e1!2m1!1e2!2m1!1e3!3sIAE,lf:1,lf_ui:2')\n",
    "time.sleep(2)"
   ]
  },
  {
   "cell_type": "code",
   "execution_count": 16,
   "id": "23d989f9-5f11-4374-a228-1ba032205154",
   "metadata": {},
   "outputs": [
    {
     "name": "stdout",
     "output_type": "stream",
     "text": [
      "RadhaKrishna Wedding Decorators & Caterers, 092214 01413, No website present, No Email\n"
     ]
    },
    {
     "name": "stderr",
     "output_type": "stream",
     "text": [
      "C:\\Users\\Asus\\AppData\\Local\\Programs\\Python\\Python312\\Lib\\site-packages\\urllib3\\connectionpool.py:1103: InsecureRequestWarning: Unverified HTTPS request is being made to host 'weandyouevents.com'. Adding certificate verification is strongly advised. See: https://urllib3.readthedocs.io/en/latest/advanced-usage.html#tls-warnings\n",
      "  warnings.warn(\n",
      "C:\\Users\\Asus\\AppData\\Local\\Programs\\Python\\Python312\\Lib\\site-packages\\urllib3\\connectionpool.py:1103: InsecureRequestWarning: Unverified HTTPS request is being made to host 'www.weandyouevents.com'. Adding certificate verification is strongly advised. See: https://urllib3.readthedocs.io/en/latest/advanced-usage.html#tls-warnings\n",
      "  warnings.warn(\n"
     ]
    },
    {
     "name": "stdout",
     "output_type": "stream",
     "text": [
      ", 093211 43633, http://weandyouevents.com/, \n",
      "['8c4075d5481d476e945486754f783364@sentry.io', '8eb368c655b84e029ed79ad7a5c1718e@sentry.wixpress.com', 'eventsbyweandyou@gmail.com', '1eeb89147c984dc6bc3ffafd9e6cd089@sentry.wixpress.com', 'askweandyouevents@gmail.com', '605a7baede844d278b89dc95ae0a9123@sentry-next.wixpress.com']\n",
      "----------------------------------------------------------------------------------------\n"
     ]
    },
    {
     "name": "stderr",
     "output_type": "stream",
     "text": [
      "C:\\Users\\Asus\\AppData\\Local\\Programs\\Python\\Python312\\Lib\\site-packages\\urllib3\\connectionpool.py:1103: InsecureRequestWarning: Unverified HTTPS request is being made to host 'thoughtfactoryweb.com'. Adding certificate verification is strongly advised. See: https://urllib3.readthedocs.io/en/latest/advanced-usage.html#tls-warnings\n",
      "  warnings.warn(\n"
     ]
    },
    {
     "name": "stdout",
     "output_type": "stream",
     "text": [
      "Thought Factory, 074000 66894, https://thoughtfactoryweb.com/, \n",
      "No email found, search manually\n",
      "----------------------------------------------------------------------------------------\n",
      "DIAN, 077383 77889, http://dianindia.com/, \n",
      "No email found, search manually\n",
      "----------------------------------------------------------------------------------------\n",
      "An exception occurred\n",
      "----------------------------------------------------------------------------------------\n",
      "Data exported to output_data.xlsx successfully!\n"
     ]
    }
   ],
   "source": [
    "def find_emails(html_string):\n",
    "    email_pattern = r'[a-zA-Z0-9._%+-]+@[a-zA-Z0-9.-]+\\.[a-zA-Z]{2,}'\n",
    "    emails = re.findall(email_pattern, html_string)\n",
    "    return emails\n",
    "\n",
    "soup = BeautifulSoup(driver.page_source, 'lxml')\n",
    "locations = soup.find_all('div', jscontroller = 'AtSb') \n",
    "clicks = driver.find_elements(By.CLASS_NAME,'cXedhc')\n",
    "\n",
    "companyArray = []\n",
    "phoneArray = []\n",
    "websiteArray = []\n",
    "emailArray = []\n",
    "\n",
    "count = 0 \n",
    "while count < len(locations) :\n",
    "\n",
    "    location = ''\n",
    "\n",
    "    try:\n",
    "        location = locations[count].text\n",
    "        location = location[:location.index('.')-1]\n",
    "    except:\n",
    "        location = ''\n",
    "    \n",
    "    if \"Sponsored\" in location:\n",
    "        print(\"Skipped\")\n",
    "    else:\n",
    "        clicks[count].click()\n",
    "        time.sleep(2)\n",
    "        soup = BeautifulSoup(driver.page_source, 'lxml')\n",
    "        phoneNumber = \"No number present\"\n",
    "        try:\n",
    "              phoneNumber = soup.find('a', jscontroller = 'LWZElb').text\n",
    "        except:\n",
    "              phoneNumber = \"No number present\"\n",
    "        try:    \n",
    "            website = soup.find('a', class_ = 'n1obkb mI8Pwc').get(\"href\")\n",
    "        except:\n",
    "            website = ''\n",
    "        \n",
    "        if not website:\n",
    "            companyArray.append(location)\n",
    "            phoneArray.append(phoneNumber)\n",
    "            websiteArray.append(\"No website present\")\n",
    "            emailArray.append(\"No Email\")\n",
    "            print(location +\", \"+ phoneNumber +\", No website present\"+\", No Email\")\n",
    "        else:\n",
    "            try:\n",
    "                html_content = requests.get(website,verify=False).text\n",
    "                soup = BeautifulSoup(html_content,\"html.parser\") \n",
    "                stringSoup = str(soup)\n",
    "                emails = find_emails(stringSoup)\n",
    "                print(location +\", \"+ phoneNumber +\", \"+ website +\", \")\n",
    "                if len(emails) > 0:\n",
    "                    print(list(set(emails)))\n",
    "                else:\n",
    "                    print(\"No email found, search manually\")\n",
    "            except:\n",
    "                  print(\"An exception occurred\")\n",
    "            companyArray.append(location)\n",
    "            phoneArray.append(phoneNumber)\n",
    "            websiteArray.append(website)\n",
    "            try:\n",
    "                emailArray.append(list(set(emails)))\n",
    "            except:\n",
    "                print(\"An exception occurred\")\n",
    "            print(\"----------------------------------------------------------------------------------------\")\n",
    "            \n",
    "    count += 1\n",
    "\n",
    "data = {\n",
    "    'Company': companyArray,\n",
    "    'Phone': phoneArray,\n",
    "    'Website': websiteArray,\n",
    "    'Email': emailArray,\n",
    "}\n",
    "\n",
    "df = pd.DataFrame(data)\n",
    "df.to_excel('output_data.xlsx', index=False)\n",
    "print(\"Data exported to output_data.xlsx successfully!\")"
   ]
  },
  {
   "cell_type": "code",
   "execution_count": 4,
   "id": "e179abfa-317f-43b8-8bfd-ba76d2249a50",
   "metadata": {},
   "outputs": [],
   "source": [
    "# #code backup\n",
    "# soup = BeautifulSoup(driver.page_source, 'lxml')\n",
    "# locations = soup.find_all('div', jscontroller = 'AtSb') \n",
    "# clicks = driver.find_elements(By.CLASS_NAME,'cXedhc')\n",
    "\n",
    "# count = 0 \n",
    "# while count < len(locations) :\n",
    "#     location = locations[count].text\n",
    "#     location = location[:location.index('.')-1]\n",
    "\n",
    "#     if \"Sponsored\" in location:\n",
    "#         print(\"Skipped\")\n",
    "#     else:\n",
    "#         clicks[count].click()\n",
    "#         time.sleep(2)\n",
    "#         soup = BeautifulSoup(driver.page_source, 'lxml')\n",
    "#         phoneNumber = \"No number present\"\n",
    "#         try:\n",
    "#               phoneNumber = soup.find('a', jscontroller = 'LWZElb').text\n",
    "#         except:\n",
    "#               phoneNumber = \"No number present\"\n",
    "            \n",
    "#         website = soup.find('a', class_ = 'n1obkb mI8Pwc').get(\"href\")\n",
    "#         if not website:\n",
    "#             print(location +\", \"+ phoneNumber +\", No website present\")\n",
    "#         else:\n",
    "#             print(location +\", \"+ phoneNumber +\", \"+ website)\n",
    "        \n",
    "#     count += 1"
   ]
  },
  {
   "cell_type": "code",
   "execution_count": null,
   "id": "29982252-484d-455b-8c0d-721448e9bb34",
   "metadata": {},
   "outputs": [],
   "source": []
  }
 ],
 "metadata": {
  "kernelspec": {
   "display_name": "Python 3 (ipykernel)",
   "language": "python",
   "name": "python3"
  },
  "language_info": {
   "codemirror_mode": {
    "name": "ipython",
    "version": 3
   },
   "file_extension": ".py",
   "mimetype": "text/x-python",
   "name": "python",
   "nbconvert_exporter": "python",
   "pygments_lexer": "ipython3",
   "version": "3.12.3"
  }
 },
 "nbformat": 4,
 "nbformat_minor": 5
}
