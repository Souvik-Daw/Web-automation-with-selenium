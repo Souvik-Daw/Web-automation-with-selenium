{
 "cells": [
  {
   "cell_type": "code",
   "execution_count": 1,
   "id": "da0f0a14-5aab-4a8c-8fea-a459a57df55d",
   "metadata": {},
   "outputs": [
    {
     "data": {
      "text/plain": [
       "7"
      ]
     },
     "execution_count": 1,
     "metadata": {},
     "output_type": "execute_result"
    }
   ],
   "source": [
    "2+5"
   ]
  },
  {
   "cell_type": "code",
   "execution_count": 2,
   "id": "b3a252ad-2519-4a0b-b978-cf4f60a79b29",
   "metadata": {},
   "outputs": [],
   "source": [
    "from bs4 import BeautifulSoup\n",
    "import lxml\n",
    "import requests\n",
    "from selenium import webdriver\n",
    "from selenium.webdriver.common.by import By\n",
    "from selenium.webdriver.common.keys import Keys\n",
    "from selenium.webdriver.support import expected_conditions as EC\n",
    "from selenium.webdriver.support.ui import WebDriverWait\n",
    "import time"
   ]
  },
  {
   "cell_type": "code",
   "execution_count": 3,
   "id": "e233a35e-a863-4eb5-9eeb-ef83bcbaf621",
   "metadata": {},
   "outputs": [],
   "source": [
    "cService = webdriver.ChromeService(executable_path='F:/Work/Automation Web scraping/Automation test/chromedriver-win64/chromedriver.exe')\n",
    "driver = webdriver.Chrome(service = cService)\n",
    "driver.get('https://www.google.com/search?sca_esv=1eda6e0add178775&tbs=lf:1,lf_ui:9&tbm=lcl&sxsrf=ADLYWIKKfoftf2ZwPJB7hwPYhLfu-QM08g:1721192815527&q=restaurant+behala&rflfq=1&num=10&sa=X&sqi=2&ved=2ahUKEwjR7O_ypq2HAxV1zDgGHTJcALQQjGp6BAgmEAE&biw=1536&bih=747&dpr=1.25#rlfi=hd:;si:;mv:[[22.510946,88.3279328],[22.4694611,88.30611859999999]]')\n",
    "time.sleep(2)"
   ]
  },
  {
   "cell_type": "code",
   "execution_count": 4,
   "id": "23d989f9-5f11-4374-a228-1ba032205154",
   "metadata": {},
   "outputs": [
    {
     "name": "stdout",
     "output_type": "stream",
     "text": [
      "Skipped\n",
      "Hatari Restaurant, 089610 53339, No website present\n",
      "Chowman - Behala, 090733 13188, https://www.chowman.net/\n",
      "Bawarchi Restaurant Behala, 093309 43629, http://bawarchionline.com/\n",
      "Koshe Kosha, Behala, 098309 49494, No website present\n",
      "Sonamati Restaurant, 098318 86944, http://www.sonamati.info/\n",
      "SARADIN (BEHALA), 091470 68081, https://saradinrestaurant.com/\n",
      "Kasturi Restaurant, 074396 72205, No website present\n",
      "Haji Saheb, 098310 63809, No website present\n",
      "Panna's Kitchen, 096743 86501, No website present\n",
      "TANDOOR PARK BEHALA, 033 3552 9181, http://www.tandoorpark.com/\n",
      "Eatelicious, 096812 87311, No website present\n",
      "Behala Cafe, No number present, No website present\n"
     ]
    },
    {
     "ename": "KeyboardInterrupt",
     "evalue": "",
     "output_type": "error",
     "traceback": [
      "\u001b[1;31m---------------------------------------------------------------------------\u001b[0m",
      "\u001b[1;31mKeyboardInterrupt\u001b[0m                         Traceback (most recent call last)",
      "Cell \u001b[1;32mIn[4], line 14\u001b[0m\n\u001b[0;32m     12\u001b[0m \u001b[38;5;28;01melse\u001b[39;00m:\n\u001b[0;32m     13\u001b[0m     clicks[count]\u001b[38;5;241m.\u001b[39mclick()\n\u001b[1;32m---> 14\u001b[0m     \u001b[43mtime\u001b[49m\u001b[38;5;241;43m.\u001b[39;49m\u001b[43msleep\u001b[49m\u001b[43m(\u001b[49m\u001b[38;5;241;43m2\u001b[39;49m\u001b[43m)\u001b[49m\n\u001b[0;32m     15\u001b[0m     soup \u001b[38;5;241m=\u001b[39m BeautifulSoup(driver\u001b[38;5;241m.\u001b[39mpage_source, \u001b[38;5;124m'\u001b[39m\u001b[38;5;124mlxml\u001b[39m\u001b[38;5;124m'\u001b[39m)\n\u001b[0;32m     16\u001b[0m     phoneNumber \u001b[38;5;241m=\u001b[39m \u001b[38;5;124m\"\u001b[39m\u001b[38;5;124mNo number present\u001b[39m\u001b[38;5;124m\"\u001b[39m\n",
      "\u001b[1;31mKeyboardInterrupt\u001b[0m: "
     ]
    }
   ],
   "source": [
    "\n",
    "soup = BeautifulSoup(driver.page_source, 'lxml')\n",
    "locations = soup.find_all('div', jscontroller = 'AtSb') \n",
    "clicks = driver.find_elements(By.CLASS_NAME,'cXedhc')\n",
    "\n",
    "count = 0 \n",
    "while count < len(locations) :\n",
    "    location = locations[count].text\n",
    "    location = location[:location.index('.')-1]\n",
    "\n",
    "    if \"Sponsored\" in location:\n",
    "        print(\"Skipped\")\n",
    "    else:\n",
    "        clicks[count].click()\n",
    "        time.sleep(2)\n",
    "        soup = BeautifulSoup(driver.page_source, 'lxml')\n",
    "        phoneNumber = \"No number present\"\n",
    "        try:\n",
    "              phoneNumber = soup.find('a', jscontroller = 'LWZElb').text\n",
    "        except:\n",
    "              phoneNumber = \"No number present\"\n",
    "            \n",
    "        website = soup.find('a', class_ = 'n1obkb mI8Pwc').get(\"href\")\n",
    "        if not website:\n",
    "            print(location +\", \"+ phoneNumber +\", No website present\")\n",
    "        else:\n",
    "            print(location +\", \"+ phoneNumber +\", \"+ website)\n",
    "        \n",
    "    count += 1"
   ]
  },
  {
   "cell_type": "code",
   "execution_count": null,
   "id": "6848b448-6dff-4595-813c-f7f9ce954373",
   "metadata": {},
   "outputs": [],
   "source": []
  }
 ],
 "metadata": {
  "kernelspec": {
   "display_name": "Python 3 (ipykernel)",
   "language": "python",
   "name": "python3"
  },
  "language_info": {
   "codemirror_mode": {
    "name": "ipython",
    "version": 3
   },
   "file_extension": ".py",
   "mimetype": "text/x-python",
   "name": "python",
   "nbconvert_exporter": "python",
   "pygments_lexer": "ipython3",
   "version": "3.12.3"
  }
 },
 "nbformat": 4,
 "nbformat_minor": 5
}
