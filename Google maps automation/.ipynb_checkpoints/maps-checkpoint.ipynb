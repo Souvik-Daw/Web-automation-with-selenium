{
 "cells": [
  {
   "cell_type": "code",
   "execution_count": 1,
   "id": "da0f0a14-5aab-4a8c-8fea-a459a57df55d",
   "metadata": {},
   "outputs": [
    {
     "data": {
      "text/plain": [
       "7"
      ]
     },
     "execution_count": 1,
     "metadata": {},
     "output_type": "execute_result"
    }
   ],
   "source": [
    "2+5"
   ]
  },
  {
   "cell_type": "code",
   "execution_count": 21,
   "id": "b3a252ad-2519-4a0b-b978-cf4f60a79b29",
   "metadata": {},
   "outputs": [],
   "source": [
    "from bs4 import BeautifulSoup\n",
    "import lxml\n",
    "import requests\n",
    "from selenium import webdriver\n",
    "from selenium.webdriver.common.by import By\n",
    "from selenium.webdriver.common.keys import Keys\n",
    "from selenium.webdriver.support import expected_conditions as EC\n",
    "from selenium.webdriver.support.ui import WebDriverWait\n",
    "import time"
   ]
  },
  {
   "cell_type": "code",
   "execution_count": 48,
   "id": "e233a35e-a863-4eb5-9eeb-ef83bcbaf621",
   "metadata": {},
   "outputs": [],
   "source": [
    "cService = webdriver.ChromeService(executable_path='F:/Work/Automation Web scraping/Automation test/chromedriver-win64/chromedriver.exe')\n",
    "driver = webdriver.Chrome(service = cService)\n",
    "driver.get('https://www.google.com/search?sca_esv=1eda6e0add178775&tbs=lf:1,lf_ui:9&tbm=lcl&sxsrf=ADLYWIKKfoftf2ZwPJB7hwPYhLfu-QM08g:1721192815527&q=restaurant+behala&rflfq=1&num=10&sa=X&sqi=2&ved=2ahUKEwjR7O_ypq2HAxV1zDgGHTJcALQQjGp6BAgmEAE&biw=1536&bih=747&dpr=1.25#rlfi=hd:;si:;mv:[[22.510946,88.3279328],[22.4694611,88.30611859999999]]')\n",
    "time.sleep(2)"
   ]
  },
  {
   "cell_type": "code",
   "execution_count": 49,
   "id": "23d989f9-5f11-4374-a228-1ba032205154",
   "metadata": {},
   "outputs": [
    {
     "name": "stdout",
     "output_type": "stream",
     "text": [
      "Hatari Restaurant, 089610 53339\n",
      "Kasturi Restaurant, 074396 72205\n",
      "Sonamati Restaurant, 098318 86944\n",
      "Quince Restaurant Cum Bar Club & Lounge, 098363 22238\n",
      "Chowman - Behala, 090733 13188\n",
      "SARADIN (BEHALA), 091470 68081\n",
      "Panna's South Indian Bistro, 086977 63880\n",
      "Rang De Basanti Dhaba - Behala, 091632 40221\n",
      "Haji Saheb, 098310 63809\n",
      "New United Cafe, 098831 72276\n",
      "Aminia Restaurant, Behala, 081006 66444\n",
      "Koshe Kosha, Behala, 098309 49494\n",
      "Canton Restaurant, 089617 73338\n",
      "Bawarchi Restaurant Behala, 093309 43629\n",
      "New Punjabi Hotel, 086974 84001\n",
      "New Punjabi Hotel & Restauran, 091631 44887\n",
      "Cuisine, 088090 41520\n",
      "Arsalan Restaurant & Caterer, 090070 07941\n",
      "South Indian Coffee House, 098366 33649\n",
      "New Rajarshi Restaurant & Caterer, 033 2407 0236\n"
     ]
    }
   ],
   "source": [
    "#version 1 auto-scrolling is not enable\n",
    "\n",
    "soup = BeautifulSoup(driver.page_source, 'lxml')\n",
    "locations = soup.find_all('div', jscontroller = 'AtSb') \n",
    "clicks = driver.find_elements(By.CLASS_NAME,'cXedhc')\n",
    "\n",
    "count = 0 \n",
    "while count < len(locations) :\n",
    "    location = locations[count].text\n",
    "    location = location[:location.index('.')-1]\n",
    "    #print(location)\n",
    "    \n",
    "    clicks[count].click()\n",
    "    time.sleep(2)\n",
    "    soup = BeautifulSoup(driver.page_source, 'lxml')\n",
    "    phoneNumber = soup.find('a', jscontroller = 'LWZElb')\n",
    "    #print(phoneNumber.text)\n",
    "    print(\", \".join([location, phoneNumber.text]))\n",
    "    \n",
    "    count += 1"
   ]
  },
  {
   "cell_type": "code",
   "execution_count": null,
   "id": "fcf56dae-bafe-42ee-806d-a1de312ecf3a",
   "metadata": {},
   "outputs": [],
   "source": [
    "#version 2 auto-scrolling is enabled \n",
    "\n",
    "soup = BeautifulSoup(driver.page_source, 'lxml')\n",
    "locations = soup.find_all('div', jscontroller = 'AtSb') \n",
    "clicks = driver.find_elements(By.CLASS_NAME,'cXedhc')\n",
    "\n",
    "count = 0 \n",
    "while count < len(locations) :\n",
    "    location = locations[count].text\n",
    "    location = location[:location.index('.')-1]\n",
    "    #print(location)\n",
    "    \n",
    "    clicks[count].click()\n",
    "    time.sleep(2)\n",
    "    soup = BeautifulSoup(driver.page_source, 'lxml')\n",
    "    phoneNumber = soup.find('a', jscontroller = 'LWZElb')\n",
    "    #print(phoneNumber.text)\n",
    "    print(\", \".join([location, phoneNumber.text]))\n",
    "    \n",
    "    count += 1\n",
    "\n",
    "#need to implement"
   ]
  }
 ],
 "metadata": {
  "kernelspec": {
   "display_name": "Python 3 (ipykernel)",
   "language": "python",
   "name": "python3"
  },
  "language_info": {
   "codemirror_mode": {
    "name": "ipython",
    "version": 3
   },
   "file_extension": ".py",
   "mimetype": "text/x-python",
   "name": "python",
   "nbconvert_exporter": "python",
   "pygments_lexer": "ipython3",
   "version": "3.12.3"
  }
 },
 "nbformat": 4,
 "nbformat_minor": 5
}
