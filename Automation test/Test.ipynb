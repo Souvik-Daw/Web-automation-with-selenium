{
 "cells": [
  {
   "cell_type": "code",
   "execution_count": 1,
   "id": "da0f0a14-5aab-4a8c-8fea-a459a57df55d",
   "metadata": {},
   "outputs": [
    {
     "data": {
      "text/plain": [
       "7"
      ]
     },
     "execution_count": 1,
     "metadata": {},
     "output_type": "execute_result"
    }
   ],
   "source": [
    "2+5"
   ]
  },
  {
   "cell_type": "code",
   "execution_count": 2,
   "id": "b3a252ad-2519-4a0b-b978-cf4f60a79b29",
   "metadata": {},
   "outputs": [],
   "source": [
    "from bs4 import BeautifulSoup\n",
    "import lxml\n",
    "import requests"
   ]
  },
  {
   "cell_type": "code",
   "execution_count": 3,
   "id": "87c5339f-83a2-4be0-9406-143cf557ddc2",
   "metadata": {},
   "outputs": [
    {
     "data": {
      "text/plain": [
       "<Response [200]>"
      ]
     },
     "execution_count": 3,
     "metadata": {},
     "output_type": "execute_result"
    }
   ],
   "source": [
    "url = 'https://webscraper.io/test-sites/e-commerce/allinone'\n",
    "page=requests.get(url)\n",
    "page"
   ]
  },
  {
   "cell_type": "code",
   "execution_count": 4,
   "id": "8fee7192-802f-4596-81cb-644dcd4386ef",
   "metadata": {},
   "outputs": [],
   "source": [
    "soup = BeautifulSoup(page.text,'lxml')"
   ]
  },
  {
   "cell_type": "code",
   "execution_count": 5,
   "id": "6c614d55-fed3-430c-a8c6-de876e9ed000",
   "metadata": {},
   "outputs": [
    {
     "name": "stdout",
     "output_type": "stream",
     "text": [
      "Galaxy Tab 4\n",
      "Dell Vostro 15...\n",
      "Asus ROG Strix...\n"
     ]
    }
   ],
   "source": [
    "products = soup.find_all('div',class_ = 'col-md-4 col-xl-4 col-lg-4')\n",
    "for i in range(len(products)):\n",
    "    print(products[i].find('a',class_ = 'title').text)"
   ]
  },
  {
   "cell_type": "code",
   "execution_count": 2,
   "id": "f41da2ad-9732-4f08-b4e0-b7497690ea92",
   "metadata": {},
   "outputs": [],
   "source": [
    "from selenium import webdriver"
   ]
  },
  {
   "cell_type": "code",
   "execution_count": 3,
   "id": "e233a35e-a863-4eb5-9eeb-ef83bcbaf621",
   "metadata": {},
   "outputs": [],
   "source": [
    "cService = webdriver.ChromeService(executable_path='F:/Work/Automation Web scraping/Automation test/chromedriver-win64/chromedriver.exe')\n",
    "driver = webdriver.Chrome(service = cService)\n",
    "driver.get('https://webscraper.io/test-sites/e-commerce/allinone')"
   ]
  },
  {
   "cell_type": "code",
   "execution_count": 5,
   "id": "21272ab1-334e-4cfa-b930-19b001b0a6c4",
   "metadata": {},
   "outputs": [],
   "source": [
    "driver.find_element('xpath','//*[@id=\"navbar\"]/ul/li[6]').click()"
   ]
  },
  {
   "cell_type": "code",
   "execution_count": null,
   "id": "5657d64a-fda8-4d5c-99a1-c2042b8c85f7",
   "metadata": {},
   "outputs": [],
   "source": []
  }
 ],
 "metadata": {
  "kernelspec": {
   "display_name": "Python 3 (ipykernel)",
   "language": "python",
   "name": "python3"
  },
  "language_info": {
   "codemirror_mode": {
    "name": "ipython",
    "version": 3
   },
   "file_extension": ".py",
   "mimetype": "text/x-python",
   "name": "python",
   "nbconvert_exporter": "python",
   "pygments_lexer": "ipython3",
   "version": "3.12.3"
  }
 },
 "nbformat": 4,
 "nbformat_minor": 5
}
