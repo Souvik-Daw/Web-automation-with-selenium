{
 "cells": [
  {
   "cell_type": "code",
   "execution_count": 1,
   "id": "da0f0a14-5aab-4a8c-8fea-a459a57df55d",
   "metadata": {},
   "outputs": [
    {
     "data": {
      "text/plain": [
       "7"
      ]
     },
     "execution_count": 1,
     "metadata": {},
     "output_type": "execute_result"
    }
   ],
   "source": [
    "2+5"
   ]
  },
  {
   "cell_type": "code",
   "execution_count": 2,
   "id": "b3a252ad-2519-4a0b-b978-cf4f60a79b29",
   "metadata": {},
   "outputs": [],
   "source": [
    "from bs4 import BeautifulSoup\n",
    "import lxml\n",
    "import requests\n",
    "from selenium import webdriver\n",
    "from selenium.webdriver.common.by import By\n",
    "from selenium.webdriver.common.keys import Keys\n",
    "from selenium.webdriver.support import expected_conditions as EC\n",
    "from selenium.webdriver.support.ui import WebDriverWait\n",
    "import time"
   ]
  },
  {
   "cell_type": "code",
   "execution_count": 3,
   "id": "e233a35e-a863-4eb5-9eeb-ef83bcbaf621",
   "metadata": {},
   "outputs": [],
   "source": [
    "driver = webdriver.Chrome()\n",
    "driver.get('https://app.apollo.io/')\n",
    "time.sleep(2)"
   ]
  },
  {
   "cell_type": "code",
   "execution_count": 6,
   "id": "1feec49d-8a47-4857-b567-cd00c92116be",
   "metadata": {},
   "outputs": [
    {
     "name": "stdout",
     "output_type": "stream",
     "text": [
      "lisa@inshapegym.nl\n",
      "jmerchant@myboostfitness.com\n",
      "samantha@fitnessequipmentireland.ie\n",
      "mayari@finishline.com\n",
      "taber@oceanfitness.us\n",
      "tjmaier5@yahoo.com\n",
      "ariel@allhoursfitness.com\n",
      "ivolk@southeast.edu\n",
      "james@cagesidemma.com\n",
      "boomatuna75@yahoo.com\n",
      "antonio@headstrongfit.com\n",
      "val@landmarkcrossfit.com\n",
      "justin@crossfitnassau.com\n",
      "lottiemiles@atlanticracquetcentre.co.uk\n",
      "thalia@ryderwear.com.au\n",
      "david@lakeregionfitnesscenter.com\n",
      "giselle@clemjonescentre.com.au\n",
      "ricky.dean@elysiumhealthandfitness.co.uk\n",
      "denise@hillheadsportsclub.com\n",
      "adrian.lee@dennisgym.net\n",
      "scott@evansfitnessclub.com\n"
     ]
    }
   ],
   "source": [
    "soup = BeautifulSoup(driver.page_source, 'lxml')\n",
    "span = soup.find_all('span', class_ = 'zp_lm1kV zp_GBqCl') \n",
    "time.sleep(2)\n",
    "for tag in soup.find_all(\"span\", class_ = 'zp_lm1kV zp_GBqCl') :\n",
    "    try:\n",
    "        #print(tag.get('id'))\n",
    "        xpath = '//*[@id=\"'+tag.get('id')+'\"]/div/div/button[1]'\n",
    "        #print(xpath)\n",
    "        getEmailButton = driver.find_element('xpath',xpath).click()\n",
    "        soup = BeautifulSoup(driver.page_source, 'lxml')\n",
    "        spanNew = soup.find_all('span', class_ = 'zp_Pb6e2') \n",
    "        #print(spanNew)\n",
    "        for p in spanNew:\n",
    "            text = p.get_text()\n",
    "            print(text)\n",
    "        time.sleep(1)\n",
    "    except:\n",
    "        print(\"Skipped\")\n",
    "#print(\"Completed\")\n"
   ]
  },
  {
   "cell_type": "code",
   "execution_count": null,
   "id": "892f6633-c47e-4368-84c9-6485f77bc0f6",
   "metadata": {},
   "outputs": [],
   "source": []
  }
 ],
 "metadata": {
  "kernelspec": {
   "display_name": "Python 3 (ipykernel)",
   "language": "python",
   "name": "python3"
  },
  "language_info": {
   "codemirror_mode": {
    "name": "ipython",
    "version": 3
   },
   "file_extension": ".py",
   "mimetype": "text/x-python",
   "name": "python",
   "nbconvert_exporter": "python",
   "pygments_lexer": "ipython3",
   "version": "3.12.3"
  }
 },
 "nbformat": 4,
 "nbformat_minor": 5
}
