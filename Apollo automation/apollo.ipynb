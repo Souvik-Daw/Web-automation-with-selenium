{
 "cells": [
  {
   "cell_type": "code",
   "execution_count": 1,
   "id": "da0f0a14-5aab-4a8c-8fea-a459a57df55d",
   "metadata": {},
   "outputs": [
    {
     "data": {
      "text/plain": [
       "7"
      ]
     },
     "execution_count": 1,
     "metadata": {},
     "output_type": "execute_result"
    }
   ],
   "source": [
    "2+5"
   ]
  },
  {
   "cell_type": "code",
   "execution_count": 2,
   "id": "b3a252ad-2519-4a0b-b978-cf4f60a79b29",
   "metadata": {},
   "outputs": [],
   "source": [
    "from bs4 import BeautifulSoup\n",
    "import lxml\n",
    "import requests\n",
    "from selenium import webdriver\n",
    "from selenium.webdriver.common.by import By\n",
    "from selenium.webdriver.common.keys import Keys\n",
    "from selenium.webdriver.support import expected_conditions as EC\n",
    "from selenium.webdriver.support.ui import WebDriverWait\n",
    "import time"
   ]
  },
  {
   "cell_type": "code",
   "execution_count": 3,
   "id": "e233a35e-a863-4eb5-9eeb-ef83bcbaf621",
   "metadata": {},
   "outputs": [],
   "source": [
    "driver = webdriver.Chrome()\n",
    "driver.get('https://app.apollo.io/')\n",
    "time.sleep(2)"
   ]
  },
  {
   "cell_type": "code",
   "execution_count": 47,
   "id": "1feec49d-8a47-4857-b567-cd00c92116be",
   "metadata": {},
   "outputs": [
    {
     "name": "stdout",
     "output_type": "stream",
     "text": [
      "michael@ausomebots.com\n",
      "ngarfinkel@millenniumhs.org\n",
      "noah718@gmail.com\n",
      "mbailie@myjli.com\n",
      "holley@oratoryglory.com\n",
      "holleymurchison@comcast.net\n",
      "marc.mueller@4tecture.ch\n",
      "aflagg@memoryblue.com\n",
      "arianna@thriveglobal.com\n",
      "roger.b@virgin.com\n",
      "robert.gates@microsoft.com\n",
      "manfred.ruland@de.rhenus.com\n",
      "t.nepomuceno@ctr-br.com\n",
      "ragansb@leonschools.net\n",
      "jspellman@winthropschools.org\n",
      "alex.gembler@knippaisd.net\n",
      "kelley@leadershipacademy.io\n",
      "kim@cpcaustin.org\n",
      "kikeish79@gmail.com\n",
      "ec-president-vdl@ec.europa.eu\n",
      "nthompson@theatlantic.com\n",
      "ritika.singh1@genpact.com\n",
      "lorena.acosta@bebusybeingawesome.com\n",
      "j@attali.com\n",
      "wj@thedisruptionadvisors.com\n",
      "bernard@bmwinecellar.com\n",
      "monika.pandey@genpact.com\n",
      "michael@dell.com\n"
     ]
    }
   ],
   "source": [
    "soup = BeautifulSoup(driver.page_source, 'lxml')\n",
    "span = soup.find_all('span', class_ = 'zp_lm1kV zp_GBqCl') \n",
    "time.sleep(2)\n",
    "for tag in soup.find_all(\"span\", class_ = 'zp_lm1kV zp_GBqCl') :\n",
    "    #print(tag.get('id'))\n",
    "    xpath = '//*[@id=\"'+tag.get('id')+'\"]/div/div/button[1]'\n",
    "    #print(xpath)\n",
    "    getEmailButton = driver.find_element('xpath',xpath).click()\n",
    "    soup = BeautifulSoup(driver.page_source, 'lxml')\n",
    "    spanNew = soup.find_all('span', class_ = 'zp_Pb6e2') \n",
    "    #print(spanNew)\n",
    "    for p in spanNew:\n",
    "        text = p.get_text()\n",
    "        print(text)\n",
    "    time.sleep(2)\n"
   ]
  },
  {
   "cell_type": "code",
   "execution_count": null,
   "id": "892f6633-c47e-4368-84c9-6485f77bc0f6",
   "metadata": {},
   "outputs": [],
   "source": []
  }
 ],
 "metadata": {
  "kernelspec": {
   "display_name": "Python 3 (ipykernel)",
   "language": "python",
   "name": "python3"
  },
  "language_info": {
   "codemirror_mode": {
    "name": "ipython",
    "version": 3
   },
   "file_extension": ".py",
   "mimetype": "text/x-python",
   "name": "python",
   "nbconvert_exporter": "python",
   "pygments_lexer": "ipython3",
   "version": "3.12.3"
  }
 },
 "nbformat": 4,
 "nbformat_minor": 5
}
