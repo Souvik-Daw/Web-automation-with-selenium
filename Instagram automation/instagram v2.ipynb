{
 "cells": [
  {
   "cell_type": "code",
   "execution_count": 1,
   "id": "da0f0a14-5aab-4a8c-8fea-a459a57df55d",
   "metadata": {},
   "outputs": [
    {
     "data": {
      "text/plain": [
       "7"
      ]
     },
     "execution_count": 1,
     "metadata": {},
     "output_type": "execute_result"
    }
   ],
   "source": [
    "2+5"
   ]
  },
  {
   "cell_type": "code",
   "execution_count": 3,
   "id": "b3a252ad-2519-4a0b-b978-cf4f60a79b29",
   "metadata": {},
   "outputs": [],
   "source": [
    "from bs4 import BeautifulSoup\n",
    "import lxml\n",
    "import requests\n",
    "from selenium import webdriver\n",
    "from selenium.webdriver.common.by import By\n",
    "from selenium.webdriver.common.keys import Keys\n",
    "from selenium.webdriver.support import expected_conditions as EC\n",
    "from selenium.webdriver.support.ui import WebDriverWait\n",
    "import time\n",
    "import pandas as pd\n",
    "#openpyxl xlrd"
   ]
  },
  {
   "cell_type": "code",
   "execution_count": 4,
   "id": "853e3ff4-dc29-480d-8167-dc7bedacf686",
   "metadata": {},
   "outputs": [],
   "source": [
    "celebrity = 'thethinkschool'\n",
    "numberOfFollowers = 30\n",
    "numberOfPeopleLiked = 30"
   ]
  },
  {
   "cell_type": "code",
   "execution_count": 6,
   "id": "e233a35e-a863-4eb5-9eeb-ef83bcbaf621",
   "metadata": {},
   "outputs": [],
   "source": [
    "driver = webdriver.Chrome()\n",
    "driver.get('https://www.instagram.com/')\n",
    "time.sleep(5)"
   ]
  },
  {
   "cell_type": "code",
   "execution_count": 7,
   "id": "23d989f9-5f11-4374-a228-1ba032205154",
   "metadata": {},
   "outputs": [],
   "source": [
    "#login\n",
    "login = driver.find_element('xpath','//*[@id=\"loginForm\"]/div/div[1]/div/label/input')\n",
    "login.send_keys('aaravmalhotra@myyahoo.com')\n",
    "time.sleep(5)\n",
    "pswd = driver.find_element('xpath','//*[@id=\"loginForm\"]/div/div[2]/div/label/input')\n",
    "pswd.send_keys('souvik2000')\n",
    "loginButton = driver.find_element('xpath','//*[@id=\"loginForm\"]/div/div[3]/button')\n",
    "loginButton.click()\n"
   ]
  },
  {
   "cell_type": "code",
   "execution_count": 12,
   "id": "b40dd7b9-9a51-408a-800f-8bcf2f0a734d",
   "metadata": {},
   "outputs": [
    {
     "name": "stdout",
     "output_type": "stream",
     "text": [
      "mount_0_0_uG\n"
     ]
    }
   ],
   "source": [
    "soup = BeautifulSoup(driver.page_source, 'lxml')\n",
    "stringSoup = str(soup)\n",
    "mountId = stringSoup[stringSoup.index(\"mount\"):(stringSoup.index(\"mount\")+12)] \n",
    "print(mountId)"
   ]
  },
  {
   "cell_type": "code",
   "execution_count": 13,
   "id": "f873c1d5-5a3a-40e9-94b4-8edf973e7968",
   "metadata": {},
   "outputs": [
    {
     "name": "stdout",
     "output_type": "stream",
     "text": [
      "finally\n"
     ]
    }
   ],
   "source": [
    "#wait after login \n",
    "try:\n",
    "    WebDriverWait(driver, 5).until(EC.presence_of_element_located((By.XPATH, '//*[@id=\"'+mountId+'\"]/div/div/div[2]/div/div/div[1]/div[1]/div[1]/div/div/div/div/div[2]/div[2]/span')))\n",
    "except:\n",
    "    try:\n",
    "        WebDriverWait(driver, 5).until(EC.presence_of_element_located((By.XPATH, '//*[@id=\"'+mountId+'\"]/div/div/div[2]/div/div/div[1]/div[1]/div[2]/div/div/div[1]/div/div[2]/div[2]/span')))\n",
    "    except:\n",
    "        try:\n",
    "            WebDriverWait(driver, 5).until(EC.presence_of_element_located((By.XPATH, '//*[@id=\"'+mountId+'\"]/div/div/div[2]/div/div/div[1]/div[1]/div[2]/div/div/div[1]/div/div[3]/div[2]/span')))\n",
    "        except:\n",
    "            print(\"test\")\n",
    "            \n",
    "finally:\n",
    "    print(\"finally\")\n"
   ]
  },
  {
   "cell_type": "code",
   "execution_count": 14,
   "id": "0ca03566-ee64-4670-bea5-ccd3a7a1cd0c",
   "metadata": {},
   "outputs": [],
   "source": [
    "#Click on the search icon\n",
    "try:\n",
    "    searchButton = driver.find_element('xpath','//*[@id=\"'+mountId+'\"]/div/div/div[2]/div/div/div[1]/div[1]/div[1]/div/div/div/div/div[2]/div[2]/span')\n",
    "except:\n",
    "    try:\n",
    "        searchButton = driver.find_element('xpath','//*[@id=\"'+mountId+'\"]/div/div/div[2]/div/div/div[1]/div[1]/div[2]/div/div/div[1]/div/div[2]/div[2]/span')\n",
    "    except:\n",
    "        print(\"test\")\n",
    "\n",
    "finally:\n",
    "    searchButton.click()\n"
   ]
  },
  {
   "cell_type": "code",
   "execution_count": 15,
   "id": "cf61dc45-3b46-42a9-be36-827988f6c8fd",
   "metadata": {},
   "outputs": [],
   "source": [
    "#Enter person name\n",
    "try:\n",
    "    search = driver.find_element('xpath','//*[@id=\"'+mountId+'\"]/div/div/div[2]/div/div/div[1]/div[1]/div[1]/div/div/div[2]/div/div/div[2]/div/div/div[1]/div/div/input')\n",
    "except:\n",
    "    search = driver.find_element('xpath','//*[@id=\"'+mountId+'\"]/div/div/div[2]/div/div/div[1]/div[1]/div[2]/div/div/div[2]/div/div/div[2]/div/div/div[1]/div/div/input')\n",
    "finally:    \n",
    "    search.send_keys(celebrity)\n",
    "    search.send_keys(Keys.ENTER)\n",
    "    time.sleep(2)\n"
   ]
  },
  {
   "cell_type": "code",
   "execution_count": 17,
   "id": "21f4d749-db57-4495-8616-6299558b4709",
   "metadata": {},
   "outputs": [],
   "source": [
    "#clicks on our person profile\n",
    "try:\n",
    "    profile = driver.find_element('xpath','//*[@id=\"'+mountId+'\"]/div/div/div[2]/div/div/div[1]/div[1]/div[1]/div/div/div[2]/div/div/div[2]/div/div/div[2]/div/a[1]').click()\n",
    "except:\n",
    "    profile = driver.find_element('xpath','//*[@id=\"'+mountId+'\"]/div/div/div[2]/div/div/div[1]/div[1]/div[2]/div/div/div[2]/div/div/div[2]/div/div/div[2]/div/a[1]/div[1]/div/div/div[1]/div/div/object/a').click()\n",
    "    \n",
    "time.sleep(2)"
   ]
  },
  {
   "cell_type": "code",
   "execution_count": 18,
   "id": "ac75bcd0-e3d5-4389-8e74-f534ab9a07ce",
   "metadata": {},
   "outputs": [],
   "source": [
    "#clicks on our celebritie followers count, get followers\n",
    "try:\n",
    "    follower = driver.find_element('xpath','//*[@id=\"'+mountId+'\"]/div/div/div[2]/div/div/div[1]/div[2]/div/div[2]/section/main/div/header/section[3]/ul/li[2]').click()\n",
    "except:\n",
    "    follower = driver.find_element('xpath','//*[@id=\"'+mountId+'\"]/div/div/div[2]/div/div/div[1]/div[2]/div/div[1]/section/main/div/header/section[3]/ul/li[2]').click()\n",
    "    \n",
    "time.sleep(5)\n",
    "\n"
   ]
  },
  {
   "cell_type": "code",
   "execution_count": 19,
   "id": "c60369db-6d15-4e3c-a0b2-2d57052ff5f2",
   "metadata": {},
   "outputs": [
    {
     "data": {
      "text/plain": [
       "['knowledgetreasure88',\n",
       " 'ayush_prajapati_62',\n",
       " '1kirma5a',\n",
       " 'deepanshusharma2398',\n",
       " 'mastereng_18',\n",
       " 'ayk.brhnudn_',\n",
       " 'itz__imran______',\n",
       " 'techtalkwithusama',\n",
       " 'bb_ved',\n",
       " 'corporate_programmer01',\n",
       " 'alwaysparthkamat',\n",
       " 'trendy341_',\n",
       " 'aaki888105',\n",
       " 'haadi_k22',\n",
       " 'asthetic._.abubakar',\n",
       " 'lets_fix_error',\n",
       " 'dell_txzzz',\n",
       " 'sayan_das3q',\n",
       " 'dreamingexpert',\n",
       " 'varun_phatak',\n",
       " 'sujitsoftengg',\n",
       " 'itx_saadhussain',\n",
       " 'rajput_rohit__169',\n",
       " 'mr_rohith.7',\n",
       " 'heyaatish_',\n",
       " 'hyper_z_aditya26',\n",
       " 'avinash__2587_',\n",
       " 'sandeep_yadav17__',\n",
       " 'verma_88984',\n",
       " 'shado_wman111',\n",
       " 'codewithapnacollage',\n",
       " 'codewith_samir',\n",
       " 'techie.crafter',\n",
       " 'shubham._.ydav',\n",
       " 'archna.hajela',\n",
       " 'rastogi.ji_9012',\n",
       " 'anjali_rana_art',\n",
       " 'mkhan400227',\n",
       " 'singing_with_aditya',\n",
       " 'thepranjanstyle_09',\n",
       " 'dino42074',\n",
       " 'const.sonawane',\n",
       " 'soni_nandani16',\n",
       " 'syedmeesum712',\n",
       " 'arpit_mahicha',\n",
       " '_codeknight_',\n",
       " 'prajjwal_shyan_',\n",
       " 'cody_guy_06',\n",
       " 'dapperstar0708',\n",
       " 'adnankhan786270']"
      ]
     },
     "execution_count": 19,
     "metadata": {},
     "output_type": "execute_result"
    }
   ],
   "source": [
    "#Extract followers\n",
    "soup = BeautifulSoup(driver.page_source, 'lxml')\n",
    "followers = soup.find_all('span', class_ = '_ap3a _aaco _aacw _aacx _aad7 _aade')    \n",
    "followersTotal = []\n",
    "while True:\n",
    "    for follower in followers:\n",
    "        followersTotal.append(follower.text)\n",
    "        try:\n",
    "            element = driver.find_element(\"xpath\", \"/html/body/div[6]/div[2]/div/div/div[1]/div/div[2]/div/div/div/div/div[2]/div/div/div[3]\") \n",
    "        except:\n",
    "            element = driver.find_element(\"xpath\", \"/html/body/div[6]/div[2]/div/div/div[1]/div/div[2]/div/div/div/div/div[2]/div/div/div[2]\")\n",
    "    driver.execute_script(\"arguments[0].scrollTop = arguments[0].scrollHeight\", element)\n",
    "    time.sleep(1)\n",
    "    soup = BeautifulSoup(driver.page_source, 'lxml')\n",
    "    followers = soup.find_all('span', class_ = '_ap3a _aaco _aacw _aacx _aad7 _aade')     \n",
    "    followersTotal2 = list(set(followersTotal))\n",
    "    if len(followersTotal2) > numberOfFollowers:\n",
    "        break\n",
    "followersTotal = list(set(followersTotal))\n",
    "followersTotal"
   ]
  },
  {
   "cell_type": "code",
   "execution_count": 20,
   "id": "c9656596-7e59-46ae-91e4-9da3ae97cd60",
   "metadata": {},
   "outputs": [
    {
     "data": {
      "text/plain": [
       "['irfan_shaikh____1',\n",
       " 'srujan_dhoni1234',\n",
       " 'amrit_.anand',\n",
       " 'coderbaba.07',\n",
       " 'rohandasrd',\n",
       " 'shibam__choudhury',\n",
       " 'patil_jayant_official',\n",
       " 'patrick_21ent',\n",
       " 'v_sk___',\n",
       " 'vaibhavrai____',\n",
       " 'dear_nawab_56',\n",
       " 'prince_alee_78',\n",
       " 'jstar_javeed',\n",
       " 'alsyedsoft',\n",
       " '_sartpool_',\n",
       " 'unstoppable_ayush.dev',\n",
       " 'thapatechnical',\n",
       " 'hiteshchoudharyofficial',\n",
       " 'codewithharry',\n",
       " 'laxiita.a',\n",
       " 'rajdeep_prt',\n",
       " 'sujal._.0712',\n",
       " 'sabiyakhan_26',\n",
       " 'mdhelal_18',\n",
       " 'sneha_gupta058',\n",
       " '_shayan__hunter_',\n",
       " 'ghulamdigital',\n",
       " 'abhishek_sharma_2210',\n",
       " 'cybyash',\n",
       " 'patnibhupesh4',\n",
       " '__rk__rehan_k_h_a_n',\n",
       " 'teen._.smile25',\n",
       " 'vaishnav_ambekar',\n",
       " 'spidey._.01',\n",
       " 'amit.agarwal__',\n",
       " 'sh.hussain__of__someone',\n",
       " 'sakshamchoudharyofficial',\n",
       " 'lokesh_nakhale',\n",
       " 'anees_rehman_khan_',\n",
       " 'dj_rv03',\n",
       " 'harsh.varshney.7568']"
      ]
     },
     "execution_count": 20,
     "metadata": {},
     "output_type": "execute_result"
    }
   ],
   "source": [
    "#Click on any post.Extract person who commented on the opened post\n",
    "soup = BeautifulSoup(driver.page_source, 'lxml')\n",
    "\n",
    "Comments = soup.find_all('a', class_ = 'x1i10hfl xjqpnuy xa49m3k xqeqjp1 x2hbi6w xdl72j9 x2lah0s xe8uvvx xdj266r x11i5rnm xat24cr x1mh8g0r x2lwn1j xeuugli x1hl2dhg xggy1nq x1ja2u2z x1t137rt x1q0g3np x1lku1pv x1a2a7pz x6s0dn4 xjyslct x1ejq31n xd10rxx x1sy0etr x17r0tee x9f619 x1ypdohk x1f6kntn xwhw2v2 xl56j7k x17ydfre x2b8uid xlyipyv x87ps6o x14atkfc xcdnw81 x1i0vuye xjbqb8w xm3z3ea x1x8b98j x131883w x16mih1h x972fbf xcfux6l x1qhh985 xm0m39n xt0psk2 xt7dq6l xexx8yu x4uap5 x18d9i69 xkhd6sd x1n2onr6 x1n5bzlp xqnirrm xj34u2y x568u83') \n",
    "\n",
    "CommentsTotal = []\n",
    "for Comment in Comments:\n",
    "    CommentsTotal.append(Comment.text)\n",
    "CommentsTotal = list(set(CommentsTotal))\n",
    "CommentsTotal"
   ]
  },
  {
   "cell_type": "code",
   "execution_count": 21,
   "id": "ae8614f3-b34a-4ba8-bb0e-fb21062998bd",
   "metadata": {},
   "outputs": [
    {
     "data": {
      "text/plain": [
       "['thenua.yuvraj',\n",
       " 'roshan.digwa',\n",
       " 'kadam_suraj90',\n",
       " '@hiteshchoudharyofficial',\n",
       " 'mabdullahkhayoo',\n",
       " 'shubham.184507',\n",
       " 'sonali__2517',\n",
       " 'shivam.harivanshi_',\n",
       " '@codewithharry',\n",
       " 'rajesh___.16',\n",
       " 'nayanpatel_68',\n",
       " 'deepakbansal_0001',\n",
       " 'roblire_gamer_official',\n",
       " 'kira00503',\n",
       " 'b_i_s_w_a_jit_creator',\n",
       " '_aryanshhh3',\n",
       " '__rithvik815__',\n",
       " '@meta.ai',\n",
       " 'kinzustics',\n",
       " '_dp_1194',\n",
       " 'bilalzia85',\n",
       " 'vineetchaudharyyyyy',\n",
       " 'toxic_.piyush_',\n",
       " 'manish__yadav0vvv',\n",
       " 'hanishhhhhhhhuuuuuu']"
      ]
     },
     "execution_count": 21,
     "metadata": {},
     "output_type": "execute_result"
    }
   ],
   "source": [
    "#click on the number of likes .Extract username who liked  \n",
    "soup = BeautifulSoup(driver.page_source, 'lxml')\n",
    "Liked = soup.find_all('a', class_ = 'x1i10hfl xjbqb8w x1ejq31n xd10rxx x1sy0etr x17r0tee x972fbf xcfux6l x1qhh985 xm0m39n x9f619 x1ypdohk xt0psk2 xe8uvvx xdj266r x11i5rnm xat24cr x1mh8g0r xexx8yu x4uap5 x18d9i69 xkhd6sd x16tdsg8 x1hl2dhg xggy1nq x1a2a7pz notranslate _a6hd') \n",
    "LikeTotal = []\n",
    "count = 0\n",
    "while True:\n",
    "    for like in Liked:\n",
    "        LikeTotal.append(like.text)\n",
    "        try:\n",
    "            element = driver.find_element(\"xpath\", \"/html/body/div[7]/div[2]/div/div/div[1]/div/div[2]/div/div/div/div/div[2]/div/div[2]/div\")\n",
    "        except:\n",
    "            try:\n",
    "                element = driver.find_element(\"xpath\", \"/html/body/div[8]/div[2]/div/div/div[1]/div/div[2]/div/div/div/div/div[2]/div/div[2]/div\")\n",
    "            except:\n",
    "                element = driver.find_element(\"xpath\", \"/html/body/div[8]/div[2]/div/div/div[1]/div/div[2]/div/div/div/div/div[2]/div/div[2]/div\")\n",
    "                try:\n",
    "                    element = driver.find_element(\"xpath\", \"/html/body/div[7]/div[2]/div/div/div[1]/div/div[2]/div/div/div/div/div[2]/div/div[2]/div\")\n",
    "                except:\n",
    "                    element = driver.find_element(\"xpath\", \"/html/body/div[7]/div[2]/div/div/div[1]/div/div[2]/div/div/div/div/div[2]/div/div[2]/div\")\n",
    "                 \n",
    "    #element = driver.find_element(\"xpath\", \"/html/body/div[8]/div[2]/div/div/div[1]/div/div[2]/div/div/div/div/div[2]/div/div[2]/div\")  \n",
    "    driver.execute_script(\"arguments[0].scrollTop = arguments[0].scrollHeight\", element)\n",
    "    time.sleep(1)\n",
    "    soup = BeautifulSoup(driver.page_source, 'lxml')\n",
    "    Liked = soup.find_all('a', class_ = 'x1i10hfl xjbqb8w x1ejq31n xd10rxx x1sy0etr x17r0tee x972fbf xcfux6l x1qhh985 xm0m39n x9f619 x1ypdohk xt0psk2 xe8uvvx xdj266r x11i5rnm xat24cr x1mh8g0r xexx8yu x4uap5 x18d9i69 xkhd6sd x16tdsg8 x1hl2dhg xggy1nq x1a2a7pz notranslate _a6hd') \n",
    "    LikeTotal2 = list(set(LikeTotal))\n",
    "    count+=1\n",
    "    if count > 5:\n",
    "        break\n",
    "LikeTotal = list(set(LikeTotal))\n",
    "LikeTotal\n",
    "\n",
    "# logic need to improve"
   ]
  },
  {
   "cell_type": "code",
   "execution_count": 28,
   "id": "e76f7665-30e0-426a-a83d-df9c66ab7364",
   "metadata": {},
   "outputs": [
    {
     "name": "stdout",
     "output_type": "stream",
     "text": [
      "An exception occurred\n",
      "2nd exception\n",
      "finally\n"
     ]
    }
   ],
   "source": [
    "try:\n",
    "    print(x)\n",
    "except:\n",
    "    print(\"An exception occurred\")\n",
    "    try:\n",
    "        print(y)\n",
    "    except:\n",
    "        print(\"2nd exception\")\n",
    "finally:\n",
    "    print(\"finally\")"
   ]
  },
  {
   "cell_type": "code",
   "execution_count": 22,
   "id": "9af298ce-d9be-4ddc-98ae-683c54d3d252",
   "metadata": {},
   "outputs": [
    {
     "name": "stdout",
     "output_type": "stream",
     "text": [
      "message sentthenua.yuvraj\n",
      "message sentroshan.digwa\n",
      "message sentkadam_suraj90\n",
      "message sent@hiteshchoudharyofficial\n",
      "message sentmabdullahkhayoo\n",
      "completed\n"
     ]
    }
   ],
   "source": [
    "#msg sending\n",
    "username = ['thenua.yuvraj',\n",
    " 'roshan.digwa',\n",
    " 'kadam_suraj90',\n",
    " '@hiteshchoudharyofficial',\n",
    " 'mabdullahkhayoo']\n",
    "message = ['Hi there, I am willing to make a full custom SEO optimised website for you that can convert visitors into clients, pay only if you liked it. How it sounds?']\n",
    "counter = 0\n",
    "\n",
    "while counter < len(username) :\n",
    "\n",
    "    soup = BeautifulSoup(driver.page_source, 'lxml')\n",
    "    stringSoup = str(soup)\n",
    "    mountId = stringSoup[stringSoup.index(\"mount\"):(stringSoup.index(\"mount\")+12)] \n",
    "\n",
    "    try:\n",
    "        messageButton = driver.find_element('xpath','//*[@id=\"'+mountId+'\"]/div/div/div[2]/div/div/div[1]/div[1]/div[2]/div/div/div/div/div[2]/div[5]/div/div/span/div/a/div')\n",
    "    except:     \n",
    "        messageButton = driver.find_element('xpath','//*[@id=\"'+mountId+'\"]/div/div/div[2]/div/div/div[1]/div[1]/div[2]/div/div/div/div/div[2]/div[5]/div/div/span/div/a/div')\n",
    "    \n",
    "    messageButton.click()\n",
    "    time.sleep(2)\n",
    "    \n",
    "    try:\n",
    "        sendMsgButton = driver.find_element('xpath','//*[@id=\"'+mountId+'\"]/html/body/div[8]/div[1]/div/div[2]/div/div/div/div/div/div/div[1]/div/div[2]/div/div[2]/input')\n",
    "    except:\n",
    "        sendMsgButton = driver.find_element('xpath','//*[@id=\"'+mountId+'\"]/div/div/div[2]/div/div/div[1]/div[1]/div[1]/section/main/section/div/div/div/div[1]/div/div[2]/div/div/div/div[4]/div')\n",
    "    \n",
    "    sendMsgButton.click()\n",
    "    time.sleep(2)\n",
    "    \n",
    "    try:\n",
    "        usernameTextFiels = driver.find_element('xpath','/html/body/div[8]/div[1]/div/div[2]/div/div/div/div/div/div/div[1]/div/div[2]/div/div[2]/input')\n",
    "    except:\n",
    "        usernameTextFiels = driver.find_element('xpath','/html/body/div[7]/div[1]/div/div[2]/div/div/div/div/div/div/div[1]/div/div[2]/div/div[2]/input')\n",
    "#    usernameTextFiels.send_keys()\n",
    "    usernameTextFiels.send_keys(username[counter])\n",
    "    time.sleep(5)\n",
    "    \n",
    "    try:\n",
    "        userSelectButton = driver.find_element('xpath','/html/body/div[9]/div[1]/div/div[2]/div/div/div/div/div/div/div[1]/div/div[3]/div/div/div[1]/div[1]')\n",
    "    except:\n",
    "        try:\n",
    "            userSelectButton = driver.find_element('xpath','/html/body/div[7]/div[1]/div/div[2]/div/div/div/div/div/div/div[1]/div/div[3]/div/div/div[1]/div[1]')\n",
    "        except:\n",
    "            userSelectButton = driver.find_element('xpath','/html/body/div[8]/div[1]/div/div[2]/div/div/div/div/div/div/div[1]/div/div[3]/div/div/div[1]/div[1]')\n",
    "\n",
    "    userSelectButton.click()\n",
    "    time.sleep(2)\n",
    "\n",
    "    try:\n",
    "        chatButton = driver.find_element('xpath','/html/body/div[8]/div[1]/div/div[2]/div/div/div/div/div/div/div[1]/div/div[4]/div')\n",
    "    except:\n",
    "        try:\n",
    "            chatButton = driver.find_element('xpath','/html/body/div[8]/div[1]/div/div[2]/div/div/div/div/div/div/div[1]/div/div[4]/div')\n",
    "        except:\n",
    "            chatButton = driver.find_element('xpath','/html/body/div[7]/div[1]/div/div[2]/div/div/div/div/div/div/div[1]/div/div[4]/div')\n",
    "    chatButton.click()\n",
    "    time.sleep(2)\n",
    "\n",
    "    try:\n",
    "        messageTextFiels = driver.find_element('xpath','//*[@id=\"'+mountId+'\"]/div/div/div[2]/div/div/div[1]/div[1]/div[1]/section/main/section/div/div/div/div[1]/div/div[2]/div/div/div/div/div/div/div[2]/div/div/div[3]/div/div/div[2]/div/div[1]/p')\n",
    "    except:\n",
    "        try:\n",
    "            messageTextFiels = driver.find_element('xpath','//*[@id=\"'+mountId+'\"]/div/div/div[2]/div/div/div[1]/div[1]/div[1]/section/main/section/div/div/div/div[1]/div/div[2]/div/div/div/div/div/div/div[2]/div/div/div[3]/div/div/div[2]/div/div[1]/p')\n",
    "        except:\n",
    "            messageTextFiels = driver.find_element('xpath','//*[@id=\"'+mountId+'\"]/div/div/div[2]/div/div/div[1]/div[1]/div[1]/section/main/section/div/div/div/div[1]/div/div[2]/div/div/div/div/div/div/div[2]/div/div/div[2]/div/div/div[2]/div/div[1]/p')\n",
    "            \n",
    "    messageTextFiels.send_keys(message[0])\n",
    "    \n",
    "    time.sleep(2)\n",
    "\n",
    "    try:\n",
    "        sendButton = driver.find_element('xpath','//*[@id=\"'+mountId+'\"]/div/div/div[2]/div/div/div[1]/div[1]/div[1]/section/main/section/div/div/div/div[1]/div/div[2]/div/div/div/div/div/div/div[2]/div/div/div[3]/div/div/div[3]')\n",
    "    except: \n",
    "        try:\n",
    "            sendButton = driver.find_element('xpath','//*[@id=\"'+mountId+'\"]/div/div/div[2]/div/div/div[1]/div[1]/div[1]/section/main/section/div/div/div/div[1]/div/div[2]/div/div/div/div/div/div/div[2]/div/div/div[3]/div/div/div[3]')\n",
    "        except:\n",
    "            sendButton = driver.find_element('xpath','//*[@id=\"'+mountId+'\"]/div/div/div[2]/div/div/div[1]/div[1]/div[1]/section/main/section/div/div/div/div[1]/div/div[2]/div/div/div/div/div/div/div[2]/div/div/div[2]/div/div/div[3]')    \n",
    "    sendButton.click() \n",
    "    print('message sent' +username[counter]) \n",
    "    counter+=1\n",
    "    \n",
    "print('completed')\n"
   ]
  },
  {
   "cell_type": "code",
   "execution_count": 26,
   "id": "62d574bf-380c-402c-956c-a33e80b62d8d",
   "metadata": {},
   "outputs": [
    {
     "name": "stdout",
     "output_type": "stream",
     "text": [
      "message sentkira00503\n"
     ]
    },
    {
     "ename": "ElementClickInterceptedException",
     "evalue": "Message: element click intercepted: Element <div aria-disabled=\"true\" class=\"x1i10hfl xjqpnuy xa49m3k xqeqjp1 x2hbi6w x972fbf xcfux6l x1qhh985 xm0m39n xdl72j9 x2lah0s xe8uvvx xdj266r x11i5rnm xat24cr x1mh8g0r x2lwn1j xeuugli xexx8yu x18d9i69 x1hl2dhg xggy1nq x1ja2u2z x1t137rt x1q0g3np x1lku1pv x1a2a7pz x6s0dn4 xjyslct x1lq5wgf xgqcy7u x30kzoy x9jhf4c x1ejq31n xd10rxx x1sy0etr x17r0tee x9f619 x9bdzbf x1ypdohk x78zum5 x1f6kntn xwhw2v2 xl56j7k x17ydfre x1n2onr6 x2b8uid xlyipyv x87ps6o x14atkfc xcdnw81 x1i0vuye xn3w4p2 x5ib6vp xc73u3c x1tu34mt xzloghq xuzhngd x47corl\" role=\"button\" tabindex=\"-1\">...</div> is not clickable at point (759, 578). Other element would receive the click: <div class=\"x9f619 xjbqb8w x78zum5 x168nmei x13lgxp2 x5pf9jr xo71vjh xw7yly9 xktsk01 x1yztbdb x1d52u69 x1uhb9sk x1plvlek xryxfnj x1c4vz4f x2lah0s xdt5ytf xqjyukv x1qjc9v5 x1oa3qoh x1nhvcw1\">...</div>\n  (Session info: chrome=128.0.6613.86)\nStacktrace:\n\tGetHandleVerifier [0x00007FF6130BB5D2+29090]\n\t(No symbol) [0x00007FF61302E689]\n\t(No symbol) [0x00007FF612EEB1CA]\n\t(No symbol) [0x00007FF612F46C0E]\n\t(No symbol) [0x00007FF612F44682]\n\t(No symbol) [0x00007FF612F41B9B]\n\t(No symbol) [0x00007FF612F40DB5]\n\t(No symbol) [0x00007FF612F32D61]\n\t(No symbol) [0x00007FF612F666EA]\n\t(No symbol) [0x00007FF612F326A6]\n\t(No symbol) [0x00007FF612F66900]\n\t(No symbol) [0x00007FF612F865D9]\n\t(No symbol) [0x00007FF612F66493]\n\t(No symbol) [0x00007FF612F309B1]\n\t(No symbol) [0x00007FF612F31B11]\n\tGetHandleVerifier [0x00007FF6133D8C5D+3295277]\n\tGetHandleVerifier [0x00007FF613424843+3605523]\n\tGetHandleVerifier [0x00007FF61341A707+3564247]\n\tGetHandleVerifier [0x00007FF613176EB6+797318]\n\t(No symbol) [0x00007FF61303980F]\n\t(No symbol) [0x00007FF6130353F4]\n\t(No symbol) [0x00007FF613035580]\n\t(No symbol) [0x00007FF613024A1F]\n\tBaseThreadInitThunk [0x00007FFB5E907034+20]\n\tRtlUserThreadStart [0x00007FFB5F762651+33]\n",
     "output_type": "error",
     "traceback": [
      "\u001b[1;31m---------------------------------------------------------------------------\u001b[0m",
      "\u001b[1;31mElementClickInterceptedException\u001b[0m          Traceback (most recent call last)",
      "Cell \u001b[1;32mIn[26], line 54\u001b[0m\n\u001b[0;32m     52\u001b[0m     \u001b[38;5;28;01mexcept\u001b[39;00m:\n\u001b[0;32m     53\u001b[0m         chatButton \u001b[38;5;241m=\u001b[39m driver\u001b[38;5;241m.\u001b[39mfind_element(\u001b[38;5;124m'\u001b[39m\u001b[38;5;124mxpath\u001b[39m\u001b[38;5;124m'\u001b[39m,\u001b[38;5;124m'\u001b[39m\u001b[38;5;124m/html/body/div[7]/div[1]/div/div[2]/div/div/div/div/div/div/div[1]/div/div[4]/div\u001b[39m\u001b[38;5;124m'\u001b[39m)\n\u001b[1;32m---> 54\u001b[0m \u001b[43mchatButton\u001b[49m\u001b[38;5;241;43m.\u001b[39;49m\u001b[43mclick\u001b[49m\u001b[43m(\u001b[49m\u001b[43m)\u001b[49m\n\u001b[0;32m     55\u001b[0m time\u001b[38;5;241m.\u001b[39msleep(\u001b[38;5;241m2\u001b[39m)\n\u001b[0;32m     57\u001b[0m \u001b[38;5;28;01mtry\u001b[39;00m:\n",
      "File \u001b[1;32mc:\\Users\\Asus\\AppData\\Local\\Programs\\Python\\Python312\\Lib\\site-packages\\selenium\\webdriver\\remote\\webelement.py:94\u001b[0m, in \u001b[0;36mWebElement.click\u001b[1;34m(self)\u001b[0m\n\u001b[0;32m     92\u001b[0m \u001b[38;5;28;01mdef\u001b[39;00m \u001b[38;5;21mclick\u001b[39m(\u001b[38;5;28mself\u001b[39m) \u001b[38;5;241m-\u001b[39m\u001b[38;5;241m>\u001b[39m \u001b[38;5;28;01mNone\u001b[39;00m:\n\u001b[0;32m     93\u001b[0m \u001b[38;5;250m    \u001b[39m\u001b[38;5;124;03m\"\"\"Clicks the element.\"\"\"\u001b[39;00m\n\u001b[1;32m---> 94\u001b[0m     \u001b[38;5;28;43mself\u001b[39;49m\u001b[38;5;241;43m.\u001b[39;49m\u001b[43m_execute\u001b[49m\u001b[43m(\u001b[49m\u001b[43mCommand\u001b[49m\u001b[38;5;241;43m.\u001b[39;49m\u001b[43mCLICK_ELEMENT\u001b[49m\u001b[43m)\u001b[49m\n",
      "File \u001b[1;32mc:\\Users\\Asus\\AppData\\Local\\Programs\\Python\\Python312\\Lib\\site-packages\\selenium\\webdriver\\remote\\webelement.py:395\u001b[0m, in \u001b[0;36mWebElement._execute\u001b[1;34m(self, command, params)\u001b[0m\n\u001b[0;32m    393\u001b[0m     params \u001b[38;5;241m=\u001b[39m {}\n\u001b[0;32m    394\u001b[0m params[\u001b[38;5;124m\"\u001b[39m\u001b[38;5;124mid\u001b[39m\u001b[38;5;124m\"\u001b[39m] \u001b[38;5;241m=\u001b[39m \u001b[38;5;28mself\u001b[39m\u001b[38;5;241m.\u001b[39m_id\n\u001b[1;32m--> 395\u001b[0m \u001b[38;5;28;01mreturn\u001b[39;00m \u001b[38;5;28;43mself\u001b[39;49m\u001b[38;5;241;43m.\u001b[39;49m\u001b[43m_parent\u001b[49m\u001b[38;5;241;43m.\u001b[39;49m\u001b[43mexecute\u001b[49m\u001b[43m(\u001b[49m\u001b[43mcommand\u001b[49m\u001b[43m,\u001b[49m\u001b[43m \u001b[49m\u001b[43mparams\u001b[49m\u001b[43m)\u001b[49m\n",
      "File \u001b[1;32mc:\\Users\\Asus\\AppData\\Local\\Programs\\Python\\Python312\\Lib\\site-packages\\selenium\\webdriver\\remote\\webdriver.py:354\u001b[0m, in \u001b[0;36mWebDriver.execute\u001b[1;34m(self, driver_command, params)\u001b[0m\n\u001b[0;32m    352\u001b[0m response \u001b[38;5;241m=\u001b[39m \u001b[38;5;28mself\u001b[39m\u001b[38;5;241m.\u001b[39mcommand_executor\u001b[38;5;241m.\u001b[39mexecute(driver_command, params)\n\u001b[0;32m    353\u001b[0m \u001b[38;5;28;01mif\u001b[39;00m response:\n\u001b[1;32m--> 354\u001b[0m     \u001b[38;5;28;43mself\u001b[39;49m\u001b[38;5;241;43m.\u001b[39;49m\u001b[43merror_handler\u001b[49m\u001b[38;5;241;43m.\u001b[39;49m\u001b[43mcheck_response\u001b[49m\u001b[43m(\u001b[49m\u001b[43mresponse\u001b[49m\u001b[43m)\u001b[49m\n\u001b[0;32m    355\u001b[0m     response[\u001b[38;5;124m\"\u001b[39m\u001b[38;5;124mvalue\u001b[39m\u001b[38;5;124m\"\u001b[39m] \u001b[38;5;241m=\u001b[39m \u001b[38;5;28mself\u001b[39m\u001b[38;5;241m.\u001b[39m_unwrap_value(response\u001b[38;5;241m.\u001b[39mget(\u001b[38;5;124m\"\u001b[39m\u001b[38;5;124mvalue\u001b[39m\u001b[38;5;124m\"\u001b[39m, \u001b[38;5;28;01mNone\u001b[39;00m))\n\u001b[0;32m    356\u001b[0m     \u001b[38;5;28;01mreturn\u001b[39;00m response\n",
      "File \u001b[1;32mc:\\Users\\Asus\\AppData\\Local\\Programs\\Python\\Python312\\Lib\\site-packages\\selenium\\webdriver\\remote\\errorhandler.py:229\u001b[0m, in \u001b[0;36mErrorHandler.check_response\u001b[1;34m(self, response)\u001b[0m\n\u001b[0;32m    227\u001b[0m         alert_text \u001b[38;5;241m=\u001b[39m value[\u001b[38;5;124m\"\u001b[39m\u001b[38;5;124malert\u001b[39m\u001b[38;5;124m\"\u001b[39m]\u001b[38;5;241m.\u001b[39mget(\u001b[38;5;124m\"\u001b[39m\u001b[38;5;124mtext\u001b[39m\u001b[38;5;124m\"\u001b[39m)\n\u001b[0;32m    228\u001b[0m     \u001b[38;5;28;01mraise\u001b[39;00m exception_class(message, screen, stacktrace, alert_text)  \u001b[38;5;66;03m# type: ignore[call-arg]  # mypy is not smart enough here\u001b[39;00m\n\u001b[1;32m--> 229\u001b[0m \u001b[38;5;28;01mraise\u001b[39;00m exception_class(message, screen, stacktrace)\n",
      "\u001b[1;31mElementClickInterceptedException\u001b[0m: Message: element click intercepted: Element <div aria-disabled=\"true\" class=\"x1i10hfl xjqpnuy xa49m3k xqeqjp1 x2hbi6w x972fbf xcfux6l x1qhh985 xm0m39n xdl72j9 x2lah0s xe8uvvx xdj266r x11i5rnm xat24cr x1mh8g0r x2lwn1j xeuugli xexx8yu x18d9i69 x1hl2dhg xggy1nq x1ja2u2z x1t137rt x1q0g3np x1lku1pv x1a2a7pz x6s0dn4 xjyslct x1lq5wgf xgqcy7u x30kzoy x9jhf4c x1ejq31n xd10rxx x1sy0etr x17r0tee x9f619 x9bdzbf x1ypdohk x78zum5 x1f6kntn xwhw2v2 xl56j7k x17ydfre x1n2onr6 x2b8uid xlyipyv x87ps6o x14atkfc xcdnw81 x1i0vuye xn3w4p2 x5ib6vp xc73u3c x1tu34mt xzloghq xuzhngd x47corl\" role=\"button\" tabindex=\"-1\">...</div> is not clickable at point (759, 578). Other element would receive the click: <div class=\"x9f619 xjbqb8w x78zum5 x168nmei x13lgxp2 x5pf9jr xo71vjh xw7yly9 xktsk01 x1yztbdb x1d52u69 x1uhb9sk x1plvlek xryxfnj x1c4vz4f x2lah0s xdt5ytf xqjyukv x1qjc9v5 x1oa3qoh x1nhvcw1\">...</div>\n  (Session info: chrome=128.0.6613.86)\nStacktrace:\n\tGetHandleVerifier [0x00007FF6130BB5D2+29090]\n\t(No symbol) [0x00007FF61302E689]\n\t(No symbol) [0x00007FF612EEB1CA]\n\t(No symbol) [0x00007FF612F46C0E]\n\t(No symbol) [0x00007FF612F44682]\n\t(No symbol) [0x00007FF612F41B9B]\n\t(No symbol) [0x00007FF612F40DB5]\n\t(No symbol) [0x00007FF612F32D61]\n\t(No symbol) [0x00007FF612F666EA]\n\t(No symbol) [0x00007FF612F326A6]\n\t(No symbol) [0x00007FF612F66900]\n\t(No symbol) [0x00007FF612F865D9]\n\t(No symbol) [0x00007FF612F66493]\n\t(No symbol) [0x00007FF612F309B1]\n\t(No symbol) [0x00007FF612F31B11]\n\tGetHandleVerifier [0x00007FF6133D8C5D+3295277]\n\tGetHandleVerifier [0x00007FF613424843+3605523]\n\tGetHandleVerifier [0x00007FF61341A707+3564247]\n\tGetHandleVerifier [0x00007FF613176EB6+797318]\n\t(No symbol) [0x00007FF61303980F]\n\t(No symbol) [0x00007FF6130353F4]\n\t(No symbol) [0x00007FF613035580]\n\t(No symbol) [0x00007FF613024A1F]\n\tBaseThreadInitThunk [0x00007FFB5E907034+20]\n\tRtlUserThreadStart [0x00007FFB5F762651+33]\n"
     ]
    }
   ],
   "source": [
    "#msg sending from excel\n",
    "message = ['Hi there, I am willing to make a full custom SEO optimised website for you that can convert visitors into clients, pay only if you liked it. How it sounds?']\n",
    "counter = 0\n",
    "userList = pd.read_excel('username.xlsx')\n",
    "for index, row in userList.iterrows():\n",
    "\n",
    "    soup = BeautifulSoup(driver.page_source, 'lxml')\n",
    "    stringSoup = str(soup)\n",
    "    mountId = stringSoup[stringSoup.index(\"mount\"):(stringSoup.index(\"mount\")+12)] \n",
    "\n",
    "    #print(row['username'])\n",
    "    try:\n",
    "        messageButton = driver.find_element('xpath','//*[@id=\"'+mountId+'\"]/div/div/div[2]/div/div/div[1]/div[1]/div[2]/div/div/div/div/div[2]/div[5]/div/div/span/div/a/div')\n",
    "    except:     \n",
    "        messageButton = driver.find_element('xpath','//*[@id=\"'+mountId+'\"]/div/div/div[2]/div/div/div[1]/div[1]/div[2]/div/div/div/div/div[2]/div[5]/div/div/span/div/a/div')\n",
    "    \n",
    "    messageButton.click()\n",
    "    time.sleep(2)\n",
    "    \n",
    "    try:\n",
    "        sendMsgButton = driver.find_element('xpath','//*[@id=\"'+mountId+'\"]/html/body/div[8]/div[1]/div/div[2]/div/div/div/div/div/div/div[1]/div/div[2]/div/div[2]/input')\n",
    "    except:\n",
    "        sendMsgButton = driver.find_element('xpath','//*[@id=\"'+mountId+'\"]/div/div/div[2]/div/div/div[1]/div[1]/div[1]/section/main/section/div/div/div/div[1]/div/div[2]/div/div/div/div[4]/div')\n",
    "    \n",
    "    sendMsgButton.click()\n",
    "    time.sleep(2)\n",
    "    \n",
    "    try:\n",
    "        usernameTextFiels = driver.find_element('xpath','/html/body/div[8]/div[1]/div/div[2]/div/div/div/div/div/div/div[1]/div/div[2]/div/div[2]/input')\n",
    "    except:\n",
    "        usernameTextFiels = driver.find_element('xpath','/html/body/div[7]/div[1]/div/div[2]/div/div/div/div/div/div/div[1]/div/div[2]/div/div[2]/input')\n",
    "#    usernameTextFiels.send_keys()\n",
    "    usernameTextFiels.send_keys(row['username'])\n",
    "    time.sleep(5)\n",
    "    \n",
    "    try:\n",
    "        userSelectButton = driver.find_element('xpath','/html/body/div[9]/div[1]/div/div[2]/div/div/div/div/div/div/div[1]/div/div[3]/div/div/div[1]/div[1]')\n",
    "    except:\n",
    "        try:\n",
    "            userSelectButton = driver.find_element('xpath','/html/body/div[7]/div[1]/div/div[2]/div/div/div/div/div/div/div[1]/div/div[3]/div/div/div[1]/div[1]')\n",
    "        except:\n",
    "            userSelectButton = driver.find_element('xpath','/html/body/div[8]/div[1]/div/div[2]/div/div/div/div/div/div/div[1]/div/div[3]/div/div/div[1]/div[1]')\n",
    "\n",
    "    userSelectButton.click()\n",
    "    time.sleep(2)\n",
    "\n",
    "    try:\n",
    "        chatButton = driver.find_element('xpath','/html/body/div[8]/div[1]/div/div[2]/div/div/div/div/div/div/div[1]/div/div[4]/div')\n",
    "    except:\n",
    "        try:\n",
    "            chatButton = driver.find_element('xpath','/html/body/div[8]/div[1]/div/div[2]/div/div/div/div/div/div/div[1]/div/div[4]/div')\n",
    "        except:\n",
    "            chatButton = driver.find_element('xpath','/html/body/div[7]/div[1]/div/div[2]/div/div/div/div/div/div/div[1]/div/div[4]/div')\n",
    "    chatButton.click()\n",
    "    time.sleep(2)\n",
    "\n",
    "    try:\n",
    "        messageTextFiels = driver.find_element('xpath','//*[@id=\"'+mountId+'\"]/div/div/div[2]/div/div/div[1]/div[1]/div[1]/section/main/section/div/div/div/div[1]/div/div[2]/div/div/div/div/div/div/div[2]/div/div/div[3]/div/div/div[2]/div/div[1]/p')\n",
    "    except:\n",
    "        try:\n",
    "            messageTextFiels = driver.find_element('xpath','//*[@id=\"'+mountId+'\"]/div/div/div[2]/div/div/div[1]/div[1]/div[1]/section/main/section/div/div/div/div[1]/div/div[2]/div/div/div/div/div/div/div[2]/div/div/div[3]/div/div/div[2]/div/div[1]/p')\n",
    "        except:\n",
    "            messageTextFiels = driver.find_element('xpath','//*[@id=\"'+mountId+'\"]/div/div/div[2]/div/div/div[1]/div[1]/div[1]/section/main/section/div/div/div/div[1]/div/div[2]/div/div/div/div/div/div/div[2]/div/div/div[2]/div/div/div[2]/div/div[1]/p')\n",
    "            \n",
    "    messageTextFiels.send_keys(message[0])\n",
    "    \n",
    "    time.sleep(2)\n",
    "\n",
    "    try:\n",
    "        sendButton = driver.find_element('xpath','//*[@id=\"'+mountId+'\"]/div/div/div[2]/div/div/div[1]/div[1]/div[1]/section/main/section/div/div/div/div[1]/div/div[2]/div/div/div/div/div/div/div[2]/div/div/div[3]/div/div/div[3]')\n",
    "    except: \n",
    "        try:\n",
    "            sendButton = driver.find_element('xpath','//*[@id=\"'+mountId+'\"]/div/div/div[2]/div/div/div[1]/div[1]/div[1]/section/main/section/div/div/div/div[1]/div/div[2]/div/div/div/div/div/div/div[2]/div/div/div[3]/div/div/div[3]')\n",
    "        except:\n",
    "            sendButton = driver.find_element('xpath','//*[@id=\"'+mountId+'\"]/div/div/div[2]/div/div/div[1]/div[1]/div[1]/section/main/section/div/div/div/div[1]/div/div[2]/div/div/div/div/div/div/div[2]/div/div/div[2]/div/div/div[3]')    \n",
    "    sendButton.click() \n",
    "    print('message sent' +row['username']) \n",
    "    counter+=1   \n",
    "print('completed')"
   ]
  }
 ],
 "metadata": {
  "kernelspec": {
   "display_name": "Python 3 (ipykernel)",
   "language": "python",
   "name": "python3"
  },
  "language_info": {
   "codemirror_mode": {
    "name": "ipython",
    "version": 3
   },
   "file_extension": ".py",
   "mimetype": "text/x-python",
   "name": "python",
   "nbconvert_exporter": "python",
   "pygments_lexer": "ipython3",
   "version": "3.12.3"
  }
 },
 "nbformat": 4,
 "nbformat_minor": 5
}
