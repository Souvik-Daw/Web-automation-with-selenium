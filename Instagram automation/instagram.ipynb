{
 "cells": [
  {
   "cell_type": "code",
   "execution_count": 1,
   "id": "da0f0a14-5aab-4a8c-8fea-a459a57df55d",
   "metadata": {},
   "outputs": [
    {
     "data": {
      "text/plain": [
       "7"
      ]
     },
     "execution_count": 1,
     "metadata": {},
     "output_type": "execute_result"
    }
   ],
   "source": [
    "2+5"
   ]
  },
  {
   "cell_type": "code",
   "execution_count": 1,
   "id": "b3a252ad-2519-4a0b-b978-cf4f60a79b29",
   "metadata": {},
   "outputs": [],
   "source": [
    "from bs4 import BeautifulSoup\n",
    "import lxml\n",
    "import requests\n",
    "from selenium import webdriver\n",
    "from selenium.webdriver.common.by import By\n",
    "from selenium.webdriver.common.keys import Keys\n",
    "from selenium.webdriver.support import expected_conditions as EC\n",
    "from selenium.webdriver.support.ui import WebDriverWait\n",
    "import time"
   ]
  },
  {
   "cell_type": "code",
   "execution_count": 2,
   "id": "853e3ff4-dc29-480d-8167-dc7bedacf686",
   "metadata": {},
   "outputs": [],
   "source": [
    "celebrity = 'thethinkschool'\n",
    "numberOfFollowers = 30\n",
    "numberOfPeopleLiked = 30"
   ]
  },
  {
   "cell_type": "code",
   "execution_count": 3,
   "id": "e233a35e-a863-4eb5-9eeb-ef83bcbaf621",
   "metadata": {},
   "outputs": [],
   "source": [
    "cService = webdriver.ChromeService(executable_path='F:/Work/Automation Web scraping/Automation test/chromedriver-win64/chromedriver.exe')\n",
    "driver = webdriver.Chrome(service = cService)\n",
    "driver.get('https://www.instagram.com/')\n",
    "time.sleep(5)"
   ]
  },
  {
   "cell_type": "code",
   "execution_count": 52,
   "id": "23d989f9-5f11-4374-a228-1ba032205154",
   "metadata": {},
   "outputs": [],
   "source": [
    "#login\n",
    "login = driver.find_element('xpath','//*[@id=\"loginForm\"]/div/div[1]/div/label/input')\n",
    "login.send_keys('aaravmalhotra@myyahoo.com')\n",
    "time.sleep(5)\n",
    "pswd = driver.find_element('xpath','//*[@id=\"loginForm\"]/div/div[2]/div/label/input')\n",
    "pswd.send_keys('souvik2000')\n",
    "loginButton = driver.find_element('xpath','//*[@id=\"loginForm\"]/div/div[3]/button')\n",
    "loginButton.click()\n"
   ]
  },
  {
   "cell_type": "code",
   "execution_count": 53,
   "id": "b40dd7b9-9a51-408a-800f-8bcf2f0a734d",
   "metadata": {},
   "outputs": [],
   "source": [
    "mountId= 'mount_0_0_nm'"
   ]
  },
  {
   "cell_type": "code",
   "execution_count": 6,
   "id": "f873c1d5-5a3a-40e9-94b4-8edf973e7968",
   "metadata": {},
   "outputs": [
    {
     "data": {
      "text/plain": [
       "<selenium.webdriver.remote.webelement.WebElement (session=\"dc74f57845ead37f820636e9538c1200\", element=\"f.B8169EA90975B2EFFA2B3431DBE7BDA3.d.9820022730F1FB466A16DC6ED5E2164E.e.251\")>"
      ]
     },
     "execution_count": 6,
     "metadata": {},
     "output_type": "execute_result"
    }
   ],
   "source": [
    "#wait after login \n",
    "WebDriverWait(driver, 10).until(EC.presence_of_element_located((By.XPATH, '//*[@id=\"'+mountId+'\"]/div/div/div[2]/div/div/div[1]/div[1]/div[1]/div/div/div/div/div[2]/div[2]/span')))"
   ]
  },
  {
   "cell_type": "code",
   "execution_count": 7,
   "id": "0ca03566-ee64-4670-bea5-ccd3a7a1cd0c",
   "metadata": {},
   "outputs": [],
   "source": [
    "#Click on the search icon\n",
    "searchButton = driver.find_element('xpath','//*[@id=\"'+mountId+'\"]/div/div/div[2]/div/div/div[1]/div[1]/div[1]/div/div/div/div/div[2]/div[2]/span')\n",
    "searchButton.click()\n"
   ]
  },
  {
   "cell_type": "code",
   "execution_count": 8,
   "id": "cf61dc45-3b46-42a9-be36-827988f6c8fd",
   "metadata": {},
   "outputs": [],
   "source": [
    "#Enter person name\n",
    "search = driver.find_element('xpath','//*[@id=\"'+mountId+'\"]/div/div/div[2]/div/div/div[1]/div[1]/div[1]/div/div/div[2]/div/div/div[2]/div/div/div[1]/div/div/input')\n",
    "search.send_keys(celebrity)\n",
    "search.send_keys(Keys.ENTER)\n",
    "time.sleep(2)\n"
   ]
  },
  {
   "cell_type": "code",
   "execution_count": 9,
   "id": "21f4d749-db57-4495-8616-6299558b4709",
   "metadata": {},
   "outputs": [],
   "source": [
    "#clicks on our person profile\n",
    "profile = driver.find_element('xpath','//*[@id=\"'+mountId+'\"]/div/div/div[2]/div/div/div[1]/div[1]/div[1]/div/div/div[2]/div/div/div[2]/div/div/div[2]/div/a[1]').click()\n",
    "time.sleep(2)"
   ]
  },
  {
   "cell_type": "code",
   "execution_count": 10,
   "id": "ac75bcd0-e3d5-4389-8e74-f534ab9a07ce",
   "metadata": {},
   "outputs": [],
   "source": [
    "#clicks on our celebritie followers count, get followers\n",
    "follower = driver.find_element('xpath','//*[@id=\"'+mountId+'\"]/div/div/div[2]/div/div/div[1]/div[2]/div/div[2]/section/main/div/header/section[3]/ul/li[2]').click()\n",
    "time.sleep(5)\n",
    "\n"
   ]
  },
  {
   "cell_type": "code",
   "execution_count": 11,
   "id": "c60369db-6d15-4e3c-a0b2-2d57052ff5f2",
   "metadata": {},
   "outputs": [
    {
     "data": {
      "text/plain": [
       "['_.incroyable.__',\n",
       " 'shrey.__shah',\n",
       " 'too_epic_anshuman',\n",
       " 'nand_jagruti',\n",
       " 'arman_arora_17',\n",
       " '_aaradhya_raghuwanshi',\n",
       " 'shantanunimbalkar23',\n",
       " 'nijarik44',\n",
       " 'naren.ravikumar',\n",
       " 'janusangi_ar',\n",
       " 'grandduke14th',\n",
       " 'advaitvenugopal',\n",
       " 'lynxcodes',\n",
       " 'n__i__h__a____',\n",
       " 'devanshcreatesig',\n",
       " 'jellyfish.895606',\n",
       " 'neev_patel0369',\n",
       " 'moneymachinery_',\n",
       " 'srajitbajpai',\n",
       " 'luteyogesh7',\n",
       " 'learner.on.web',\n",
       " 'doddle425',\n",
       " 'just_me2688',\n",
       " 'infernaldusk',\n",
       " 'faizlone19_',\n",
       " 'econ_madesimple',\n",
       " 'kambleji2697',\n",
       " 'klazdior',\n",
       " 'brahmesh_gowda',\n",
       " 'yltp2024',\n",
       " 'nandini_sharma.997',\n",
       " 'p7harma',\n",
       " 'prayag.pvtt',\n",
       " 'the.business_believer_',\n",
       " 'hrishan.nimkar']"
      ]
     },
     "execution_count": 11,
     "metadata": {},
     "output_type": "execute_result"
    }
   ],
   "source": [
    "#Extract followers\n",
    "soup = BeautifulSoup(driver.page_source, 'lxml')\n",
    "followers = soup.find_all('span', class_ = '_ap3a _aaco _aacw _aacx _aad7 _aade')    \n",
    "followersTotal = []\n",
    "while True:\n",
    "    for follower in followers:\n",
    "        followersTotal.append(follower.text)\n",
    "    element = driver.find_element(\"xpath\", \"/html/body/div[6]/div[2]/div/div/div[1]/div/div[2]/div/div/div/div/div[2]/div/div/div[3]\")  \n",
    "    driver.execute_script(\"arguments[0].scrollTop = arguments[0].scrollHeight\", element)\n",
    "    time.sleep(1)\n",
    "    soup = BeautifulSoup(driver.page_source, 'lxml')\n",
    "    followers = soup.find_all('span', class_ = '_ap3a _aaco _aacw _aacx _aad7 _aade')     \n",
    "    followersTotal2 = list(set(followersTotal))\n",
    "    if len(followersTotal2) > numberOfFollowers:\n",
    "        break\n",
    "followersTotal = list(set(followersTotal))\n",
    "followersTotal"
   ]
  },
  {
   "cell_type": "code",
   "execution_count": 13,
   "id": "c9656596-7e59-46ae-91e4-9da3ae97cd60",
   "metadata": {},
   "outputs": [
    {
     "data": {
      "text/plain": [
       "['devrshanbhag',\n",
       " 'akshay_rajsheakaran',\n",
       " 'crystal_artaficionado',\n",
       " 'fitterwithprithvi',\n",
       " 'anshmehra.in',\n",
       " 'deegarg06',\n",
       " 'nishantjaiswal09',\n",
       " 'nipunn_nv',\n",
       " '__v1v3k',\n",
       " 'theforexface',\n",
       " 'divabhansali',\n",
       " 'thethinkschool',\n",
       " 'tarunmakhija01']"
      ]
     },
     "execution_count": 13,
     "metadata": {},
     "output_type": "execute_result"
    }
   ],
   "source": [
    "#Extract person who commented on the opened post\n",
    "soup = BeautifulSoup(driver.page_source, 'lxml')\n",
    "\n",
    "Comments = soup.find_all('a', class_ = 'x1i10hfl xjqpnuy xa49m3k xqeqjp1 x2hbi6w xdl72j9 x2lah0s xe8uvvx xdj266r x11i5rnm xat24cr x1mh8g0r x2lwn1j xeuugli x1hl2dhg xggy1nq x1ja2u2z x1t137rt x1q0g3np x1lku1pv x1a2a7pz x6s0dn4 xjyslct x1ejq31n xd10rxx x1sy0etr x17r0tee x9f619 x1ypdohk x1f6kntn xwhw2v2 xl56j7k x17ydfre x2b8uid xlyipyv x87ps6o x14atkfc xcdnw81 x1i0vuye xjbqb8w xm3z3ea x1x8b98j x131883w x16mih1h x972fbf xcfux6l x1qhh985 xm0m39n xt0psk2 xt7dq6l xexx8yu x4uap5 x18d9i69 xkhd6sd x1n2onr6 x1n5bzlp xqnirrm xj34u2y x568u83') \n",
    "\n",
    "CommentsTotal = []\n",
    "for Comment in Comments:\n",
    "    CommentsTotal.append(Comment.text)\n",
    "CommentsTotal = list(set(CommentsTotal))\n",
    "CommentsTotal"
   ]
  },
  {
   "cell_type": "code",
   "execution_count": 14,
   "id": "ae8614f3-b34a-4ba8-bb0e-fb21062998bd",
   "metadata": {},
   "outputs": [
    {
     "data": {
      "text/plain": [
       "['soham._.ghosh',\n",
       " 'abhishek.saini.in',\n",
       " 'sandipans2002',\n",
       " '_v_e_n_o_m_009',\n",
       " 'om_ochvani_',\n",
       " '@kissafilms',\n",
       " 'a_v_i_k__g_h_o_s_h',\n",
       " 'financebysanjayVerified',\n",
       " 'virajshah2911',\n",
       " 'notyourwarheads',\n",
       " 'shrey.golchha',\n",
       " 'dhammadeep_jadhav',\n",
       " 'husain_shan_',\n",
       " 'sanadbinsayed',\n",
       " 'krishnaraj_jitkar_1',\n",
       " 'a.r.ashutosh',\n",
       " 'sujal.jethwaniVerified',\n",
       " 'englishwithroshna',\n",
       " 'ankitshukla121',\n",
       " 'pareek_025',\n",
       " 'ankita_speaks_',\n",
       " 'techietech_01',\n",
       " 'ashishsingh3198']"
      ]
     },
     "execution_count": 14,
     "metadata": {},
     "output_type": "execute_result"
    }
   ],
   "source": [
    "#Extract username who liked  \n",
    "soup = BeautifulSoup(driver.page_source, 'lxml')\n",
    "Liked = soup.find_all('a', class_ = 'x1i10hfl xjbqb8w x1ejq31n xd10rxx x1sy0etr x17r0tee x972fbf xcfux6l x1qhh985 xm0m39n x9f619 x1ypdohk xt0psk2 xe8uvvx xdj266r x11i5rnm xat24cr x1mh8g0r xexx8yu x4uap5 x18d9i69 xkhd6sd x16tdsg8 x1hl2dhg xggy1nq x1a2a7pz notranslate _a6hd') \n",
    "LikeTotal = []\n",
    "count = 0\n",
    "while True:\n",
    "    for like in Liked:\n",
    "        LikeTotal.append(like.text)\n",
    "    element = driver.find_element(\"xpath\", \"/html/body/div[7]/div[2]/div/div/div[1]/div/div[2]/div/div/div/div/div[2]/div/div[2]/div\")    \n",
    "    #element = driver.find_element(\"xpath\", \"/html/body/div[8]/div[2]/div/div/div[1]/div/div[2]/div/div/div/div/div[2]/div/div[2]/div\")  \n",
    "    driver.execute_script(\"arguments[0].scrollTop = arguments[0].scrollHeight\", element)\n",
    "    time.sleep(1)\n",
    "    soup = BeautifulSoup(driver.page_source, 'lxml')\n",
    "    Liked = soup.find_all('a', class_ = 'x1i10hfl xjbqb8w x1ejq31n xd10rxx x1sy0etr x17r0tee x972fbf xcfux6l x1qhh985 xm0m39n x9f619 x1ypdohk xt0psk2 xe8uvvx xdj266r x11i5rnm xat24cr x1mh8g0r xexx8yu x4uap5 x18d9i69 xkhd6sd x16tdsg8 x1hl2dhg xggy1nq x1a2a7pz notranslate _a6hd') \n",
    "    LikeTotal2 = list(set(LikeTotal))\n",
    "    count+=1\n",
    "    if count > 5:\n",
    "        break\n",
    "LikeTotal = list(set(LikeTotal))\n",
    "LikeTotal\n",
    "\n",
    "# logic need to improve"
   ]
  },
  {
   "cell_type": "code",
   "execution_count": 68,
   "id": "27c8d18a-95c6-4113-b1c9-1403e519b6c9",
   "metadata": {},
   "outputs": [
    {
     "ename": "NoSuchElementException",
     "evalue": "Message: no such element: Unable to locate element: {\"method\":\"xpath\",\"selector\":\"//*[@id=\"mount_0_0_nm\"]/div/div/div[2]/div/div/div[1]/div[1]/div[2]/section/div/div/div/div[1]/div/div[2]/div/div/div/div/div/div/div[2]/div/div/div[2]/div/div/div[2]/div/div[1]/p\"}\n  (Session info: chrome=126.0.6478.127); For documentation on this error, please visit: https://www.selenium.dev/documentation/webdriver/troubleshooting/errors#no-such-element-exception\nStacktrace:\n\tGetHandleVerifier [0x00007FF6BE30EEA2+31554]\n\t(No symbol) [0x00007FF6BE287ED9]\n\t(No symbol) [0x00007FF6BE14872A]\n\t(No symbol) [0x00007FF6BE198434]\n\t(No symbol) [0x00007FF6BE19853C]\n\t(No symbol) [0x00007FF6BE1DF6A7]\n\t(No symbol) [0x00007FF6BE1BD06F]\n\t(No symbol) [0x00007FF6BE1DC977]\n\t(No symbol) [0x00007FF6BE1BCDD3]\n\t(No symbol) [0x00007FF6BE18A33B]\n\t(No symbol) [0x00007FF6BE18AED1]\n\tGetHandleVerifier [0x00007FF6BE618B1D+3217341]\n\tGetHandleVerifier [0x00007FF6BE665AE3+3532675]\n\tGetHandleVerifier [0x00007FF6BE65B0E0+3489152]\n\tGetHandleVerifier [0x00007FF6BE3BE776+750614]\n\t(No symbol) [0x00007FF6BE29375F]\n\t(No symbol) [0x00007FF6BE28EB14]\n\t(No symbol) [0x00007FF6BE28ECA2]\n\t(No symbol) [0x00007FF6BE27E16F]\n\tBaseThreadInitThunk [0x00007FFB5E907034+20]\n\tRtlUserThreadStart [0x00007FFB5F762651+33]\n",
     "output_type": "error",
     "traceback": [
      "\u001b[1;31m---------------------------------------------------------------------------\u001b[0m",
      "\u001b[1;31mNoSuchElementException\u001b[0m                    Traceback (most recent call last)",
      "Cell \u001b[1;32mIn[68], line 27\u001b[0m\n\u001b[0;32m     24\u001b[0m chatButton\u001b[38;5;241m.\u001b[39mclick()\n\u001b[0;32m     25\u001b[0m time\u001b[38;5;241m.\u001b[39msleep(\u001b[38;5;241m2\u001b[39m)\n\u001b[1;32m---> 27\u001b[0m messageTextFiels \u001b[38;5;241m=\u001b[39m \u001b[43mdriver\u001b[49m\u001b[38;5;241;43m.\u001b[39;49m\u001b[43mfind_element\u001b[49m\u001b[43m(\u001b[49m\u001b[38;5;124;43m'\u001b[39;49m\u001b[38;5;124;43mxpath\u001b[39;49m\u001b[38;5;124;43m'\u001b[39;49m\u001b[43m,\u001b[49m\u001b[38;5;124;43m'\u001b[39;49m\u001b[38;5;124;43m//*[@id=\u001b[39;49m\u001b[38;5;124;43m\"\u001b[39;49m\u001b[38;5;124;43m'\u001b[39;49m\u001b[38;5;241;43m+\u001b[39;49m\u001b[43mmountId\u001b[49m\u001b[38;5;241;43m+\u001b[39;49m\u001b[38;5;124;43m'\u001b[39;49m\u001b[38;5;124;43m\"\u001b[39;49m\u001b[38;5;124;43m]/div/div/div[2]/div/div/div[1]/div[1]/div[2]/section/div/div/div/div[1]/div/div[2]/div/div/div/div/div/div/div[2]/div/div/div[2]/div/div/div[2]/div/div[1]/p\u001b[39;49m\u001b[38;5;124;43m'\u001b[39;49m\u001b[43m)\u001b[49m\n\u001b[0;32m     28\u001b[0m messageTextFiels\u001b[38;5;241m.\u001b[39msend_keys(message[counter])\n\u001b[0;32m     29\u001b[0m time\u001b[38;5;241m.\u001b[39msleep(\u001b[38;5;241m2\u001b[39m)\n",
      "File \u001b[1;32m~\\AppData\\Local\\Programs\\Python\\Python312\\Lib\\site-packages\\selenium\\webdriver\\remote\\webdriver.py:748\u001b[0m, in \u001b[0;36mWebDriver.find_element\u001b[1;34m(self, by, value)\u001b[0m\n\u001b[0;32m    745\u001b[0m     by \u001b[38;5;241m=\u001b[39m By\u001b[38;5;241m.\u001b[39mCSS_SELECTOR\n\u001b[0;32m    746\u001b[0m     value \u001b[38;5;241m=\u001b[39m \u001b[38;5;124mf\u001b[39m\u001b[38;5;124m'\u001b[39m\u001b[38;5;124m[name=\u001b[39m\u001b[38;5;124m\"\u001b[39m\u001b[38;5;132;01m{\u001b[39;00mvalue\u001b[38;5;132;01m}\u001b[39;00m\u001b[38;5;124m\"\u001b[39m\u001b[38;5;124m]\u001b[39m\u001b[38;5;124m'\u001b[39m\n\u001b[1;32m--> 748\u001b[0m \u001b[38;5;28;01mreturn\u001b[39;00m \u001b[38;5;28;43mself\u001b[39;49m\u001b[38;5;241;43m.\u001b[39;49m\u001b[43mexecute\u001b[49m\u001b[43m(\u001b[49m\u001b[43mCommand\u001b[49m\u001b[38;5;241;43m.\u001b[39;49m\u001b[43mFIND_ELEMENT\u001b[49m\u001b[43m,\u001b[49m\u001b[43m \u001b[49m\u001b[43m{\u001b[49m\u001b[38;5;124;43m\"\u001b[39;49m\u001b[38;5;124;43musing\u001b[39;49m\u001b[38;5;124;43m\"\u001b[39;49m\u001b[43m:\u001b[49m\u001b[43m \u001b[49m\u001b[43mby\u001b[49m\u001b[43m,\u001b[49m\u001b[43m \u001b[49m\u001b[38;5;124;43m\"\u001b[39;49m\u001b[38;5;124;43mvalue\u001b[39;49m\u001b[38;5;124;43m\"\u001b[39;49m\u001b[43m:\u001b[49m\u001b[43m \u001b[49m\u001b[43mvalue\u001b[49m\u001b[43m}\u001b[49m\u001b[43m)\u001b[49m[\u001b[38;5;124m\"\u001b[39m\u001b[38;5;124mvalue\u001b[39m\u001b[38;5;124m\"\u001b[39m]\n",
      "File \u001b[1;32m~\\AppData\\Local\\Programs\\Python\\Python312\\Lib\\site-packages\\selenium\\webdriver\\remote\\webdriver.py:354\u001b[0m, in \u001b[0;36mWebDriver.execute\u001b[1;34m(self, driver_command, params)\u001b[0m\n\u001b[0;32m    352\u001b[0m response \u001b[38;5;241m=\u001b[39m \u001b[38;5;28mself\u001b[39m\u001b[38;5;241m.\u001b[39mcommand_executor\u001b[38;5;241m.\u001b[39mexecute(driver_command, params)\n\u001b[0;32m    353\u001b[0m \u001b[38;5;28;01mif\u001b[39;00m response:\n\u001b[1;32m--> 354\u001b[0m     \u001b[38;5;28;43mself\u001b[39;49m\u001b[38;5;241;43m.\u001b[39;49m\u001b[43merror_handler\u001b[49m\u001b[38;5;241;43m.\u001b[39;49m\u001b[43mcheck_response\u001b[49m\u001b[43m(\u001b[49m\u001b[43mresponse\u001b[49m\u001b[43m)\u001b[49m\n\u001b[0;32m    355\u001b[0m     response[\u001b[38;5;124m\"\u001b[39m\u001b[38;5;124mvalue\u001b[39m\u001b[38;5;124m\"\u001b[39m] \u001b[38;5;241m=\u001b[39m \u001b[38;5;28mself\u001b[39m\u001b[38;5;241m.\u001b[39m_unwrap_value(response\u001b[38;5;241m.\u001b[39mget(\u001b[38;5;124m\"\u001b[39m\u001b[38;5;124mvalue\u001b[39m\u001b[38;5;124m\"\u001b[39m, \u001b[38;5;28;01mNone\u001b[39;00m))\n\u001b[0;32m    356\u001b[0m     \u001b[38;5;28;01mreturn\u001b[39;00m response\n",
      "File \u001b[1;32m~\\AppData\\Local\\Programs\\Python\\Python312\\Lib\\site-packages\\selenium\\webdriver\\remote\\errorhandler.py:229\u001b[0m, in \u001b[0;36mErrorHandler.check_response\u001b[1;34m(self, response)\u001b[0m\n\u001b[0;32m    227\u001b[0m         alert_text \u001b[38;5;241m=\u001b[39m value[\u001b[38;5;124m\"\u001b[39m\u001b[38;5;124malert\u001b[39m\u001b[38;5;124m\"\u001b[39m]\u001b[38;5;241m.\u001b[39mget(\u001b[38;5;124m\"\u001b[39m\u001b[38;5;124mtext\u001b[39m\u001b[38;5;124m\"\u001b[39m)\n\u001b[0;32m    228\u001b[0m     \u001b[38;5;28;01mraise\u001b[39;00m exception_class(message, screen, stacktrace, alert_text)  \u001b[38;5;66;03m# type: ignore[call-arg]  # mypy is not smart enough here\u001b[39;00m\n\u001b[1;32m--> 229\u001b[0m \u001b[38;5;28;01mraise\u001b[39;00m exception_class(message, screen, stacktrace)\n",
      "\u001b[1;31mNoSuchElementException\u001b[0m: Message: no such element: Unable to locate element: {\"method\":\"xpath\",\"selector\":\"//*[@id=\"mount_0_0_nm\"]/div/div/div[2]/div/div/div[1]/div[1]/div[2]/section/div/div/div/div[1]/div/div[2]/div/div/div/div/div/div/div[2]/div/div/div[2]/div/div/div[2]/div/div[1]/p\"}\n  (Session info: chrome=126.0.6478.127); For documentation on this error, please visit: https://www.selenium.dev/documentation/webdriver/troubleshooting/errors#no-such-element-exception\nStacktrace:\n\tGetHandleVerifier [0x00007FF6BE30EEA2+31554]\n\t(No symbol) [0x00007FF6BE287ED9]\n\t(No symbol) [0x00007FF6BE14872A]\n\t(No symbol) [0x00007FF6BE198434]\n\t(No symbol) [0x00007FF6BE19853C]\n\t(No symbol) [0x00007FF6BE1DF6A7]\n\t(No symbol) [0x00007FF6BE1BD06F]\n\t(No symbol) [0x00007FF6BE1DC977]\n\t(No symbol) [0x00007FF6BE1BCDD3]\n\t(No symbol) [0x00007FF6BE18A33B]\n\t(No symbol) [0x00007FF6BE18AED1]\n\tGetHandleVerifier [0x00007FF6BE618B1D+3217341]\n\tGetHandleVerifier [0x00007FF6BE665AE3+3532675]\n\tGetHandleVerifier [0x00007FF6BE65B0E0+3489152]\n\tGetHandleVerifier [0x00007FF6BE3BE776+750614]\n\t(No symbol) [0x00007FF6BE29375F]\n\t(No symbol) [0x00007FF6BE28EB14]\n\t(No symbol) [0x00007FF6BE28ECA2]\n\t(No symbol) [0x00007FF6BE27E16F]\n\tBaseThreadInitThunk [0x00007FFB5E907034+20]\n\tRtlUserThreadStart [0x00007FFB5F762651+33]\n"
     ]
    }
   ],
   "source": [
    "#msg sending\n",
    "username = ['a_v_i_k__g_h_o_s_h','husain_shan_']\n",
    "message = ['hi,are you in a need of a personal website?','hi,are you in a need of a personal website?']\n",
    "counter = 0\n",
    "\n",
    "while counter < len(username) :\n",
    "    messageButton = driver.find_element('xpath','//*[@id=\"'+mountId+'\"]/div/div/div[2]/div/div/div[1]/div[1]/div[1]/div/div/div/div/div[2]/div[5]/div/div/span/div/a/div')\n",
    "    messageButton.click()\n",
    "    time.sleep(2)\n",
    "    \n",
    "    sendMsgButton = driver.find_element('xpath','//*[@id=\"'+mountId+'\"]/div/div/div[2]/div/div/div[1]/div[1]/div[2]/section/div/div/div/div[1]/div/div[2]/div/div/div/div[4]')\n",
    "    sendMsgButton.click()\n",
    "    time.sleep(2)\n",
    "    \n",
    "    usernameTextFiels = driver.find_element('xpath','/html/body/div[6]/div[1]/div/div[2]/div/div/div/div/div/div/div[1]/div/div[2]/div/div[2]/input')\n",
    "    usernameTextFiels.send_keys(username[counter])\n",
    "    time.sleep(5)\n",
    "    \n",
    "    userSelectButton = driver.find_element('xpath','/html/body/div[6]/div[1]/div/div[2]/div/div/div/div/div/div/div[1]/div/div[3]/div/div/div[1]/div[1]/div/div')\n",
    "    userSelectButton.click()\n",
    "    time.sleep(2)\n",
    "    \n",
    "    chatButton = driver.find_element('xpath','/html/body/div[6]/div[1]/div/div[2]/div/div/div/div/div/div/div[1]/div/div[4]/div')\n",
    "    chatButton.click()\n",
    "    time.sleep(2)\n",
    "    \n",
    "    messageTextFiels = driver.find_element('xpath','//*[@id=\"'+mountId+'\"]/div/div/div[2]/div/div/div[1]/div[1]/div[2]/section/div/div/div/div[1]/div/div[2]/div/div/div/div/div/div/div[2]/div/div/div[2]/div/div/div[2]/div/div[1]/p')\n",
    "    messageTextFiels.send_keys(message[counter])\n",
    "    time.sleep(2)\n",
    "    \n",
    "    sendButton = driver.find_element('xpath','//*[@id=\"'+mountId+'\"]/div/div/div[2]/div/div/div[1]/div[1]/div[2]/section/div/div/div/div[1]/div/div[2]/div/div/div/div/div/div/div[2]/div/div/div[3]/div/div/div[3]')\n",
    "    sendButton.click()    \n",
    "    counter+=1\n",
    "print('completed')\n"
   ]
  },
  {
   "cell_type": "code",
   "execution_count": null,
   "id": "e76f7665-30e0-426a-a83d-df9c66ab7364",
   "metadata": {},
   "outputs": [],
   "source": []
  }
 ],
 "metadata": {
  "kernelspec": {
   "display_name": "Python 3 (ipykernel)",
   "language": "python",
   "name": "python3"
  },
  "language_info": {
   "codemirror_mode": {
    "name": "ipython",
    "version": 3
   },
   "file_extension": ".py",
   "mimetype": "text/x-python",
   "name": "python",
   "nbconvert_exporter": "python",
   "pygments_lexer": "ipython3",
   "version": "3.12.3"
  }
 },
 "nbformat": 4,
 "nbformat_minor": 5
}
